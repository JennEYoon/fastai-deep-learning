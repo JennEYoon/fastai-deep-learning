{
  "nbformat": 4,
  "nbformat_minor": 0,
  "metadata": {
    "jupytext": {
      "split_at_heading": true
    },
    "kernelspec": {
      "display_name": "Python 3",
      "language": "python",
      "name": "python3"
    },
    "colab": {
      "name": "Colab_full_14_resnet.ipynb",
      "provenance": [],
      "collapsed_sections": [],
      "include_colab_link": true
    },
    "accelerator": "GPU"
  },
  "cells": [
    {
      "cell_type": "markdown",
      "metadata": {
        "id": "view-in-github",
        "colab_type": "text"
      },
      "source": [
        "<a href=\"https://colab.research.google.com/github/JennEYoon/deep-learning/blob/main/fastai-20/chp14-resnt/Colab_full_14_resnet.ipynb\" target=\"_parent\"><img src=\"https://colab.research.google.com/assets/colab-badge.svg\" alt=\"Open In Colab\"/></a>"
      ]
    },
    {
      "cell_type": "code",
      "metadata": {
        "id": "l-ikknxN6cOq",
        "colab": {
          "base_uri": "https://localhost:8080/"
        },
        "outputId": "3b76a677-8b9c-4ea8-a656-8cf4951ed516"
      },
      "source": [
        "#hide\n",
        "!pip install -Uqq fastbook\n",
        "import fastbook\n",
        "fastbook.setup_book()"
      ],
      "execution_count": 1,
      "outputs": [
        {
          "output_type": "stream",
          "text": [
            "\u001b[?25l\r\u001b[K     |▌                               | 10kB 28.9MB/s eta 0:00:01\r\u001b[K     |█                               | 20kB 34.2MB/s eta 0:00:01\r\u001b[K     |█▍                              | 30kB 25.4MB/s eta 0:00:01\r\u001b[K     |█▉                              | 40kB 21.8MB/s eta 0:00:01\r\u001b[K     |██▎                             | 51kB 22.4MB/s eta 0:00:01\r\u001b[K     |██▊                             | 61kB 16.2MB/s eta 0:00:01\r\u001b[K     |███▏                            | 71kB 17.0MB/s eta 0:00:01\r\u001b[K     |███▋                            | 81kB 17.6MB/s eta 0:00:01\r\u001b[K     |████                            | 92kB 15.8MB/s eta 0:00:01\r\u001b[K     |████▌                           | 102kB 17.0MB/s eta 0:00:01\r\u001b[K     |█████                           | 112kB 17.0MB/s eta 0:00:01\r\u001b[K     |█████▌                          | 122kB 17.0MB/s eta 0:00:01\r\u001b[K     |██████                          | 133kB 17.0MB/s eta 0:00:01\r\u001b[K     |██████▍                         | 143kB 17.0MB/s eta 0:00:01\r\u001b[K     |██████▉                         | 153kB 17.0MB/s eta 0:00:01\r\u001b[K     |███████▎                        | 163kB 17.0MB/s eta 0:00:01\r\u001b[K     |███████▊                        | 174kB 17.0MB/s eta 0:00:01\r\u001b[K     |████████▏                       | 184kB 17.0MB/s eta 0:00:01\r\u001b[K     |████████▋                       | 194kB 17.0MB/s eta 0:00:01\r\u001b[K     |█████████                       | 204kB 17.0MB/s eta 0:00:01\r\u001b[K     |█████████▋                      | 215kB 17.0MB/s eta 0:00:01\r\u001b[K     |██████████                      | 225kB 17.0MB/s eta 0:00:01\r\u001b[K     |██████████▌                     | 235kB 17.0MB/s eta 0:00:01\r\u001b[K     |███████████                     | 245kB 17.0MB/s eta 0:00:01\r\u001b[K     |███████████▍                    | 256kB 17.0MB/s eta 0:00:01\r\u001b[K     |███████████▉                    | 266kB 17.0MB/s eta 0:00:01\r\u001b[K     |████████████▎                   | 276kB 17.0MB/s eta 0:00:01\r\u001b[K     |████████████▊                   | 286kB 17.0MB/s eta 0:00:01\r\u001b[K     |█████████████▏                  | 296kB 17.0MB/s eta 0:00:01\r\u001b[K     |█████████████▋                  | 307kB 17.0MB/s eta 0:00:01\r\u001b[K     |██████████████                  | 317kB 17.0MB/s eta 0:00:01\r\u001b[K     |██████████████▋                 | 327kB 17.0MB/s eta 0:00:01\r\u001b[K     |███████████████                 | 337kB 17.0MB/s eta 0:00:01\r\u001b[K     |███████████████▌                | 348kB 17.0MB/s eta 0:00:01\r\u001b[K     |████████████████                | 358kB 17.0MB/s eta 0:00:01\r\u001b[K     |████████████████▍               | 368kB 17.0MB/s eta 0:00:01\r\u001b[K     |████████████████▉               | 378kB 17.0MB/s eta 0:00:01\r\u001b[K     |█████████████████▎              | 389kB 17.0MB/s eta 0:00:01\r\u001b[K     |█████████████████▊              | 399kB 17.0MB/s eta 0:00:01\r\u001b[K     |██████████████████▏             | 409kB 17.0MB/s eta 0:00:01\r\u001b[K     |██████████████████▋             | 419kB 17.0MB/s eta 0:00:01\r\u001b[K     |███████████████████▏            | 430kB 17.0MB/s eta 0:00:01\r\u001b[K     |███████████████████▋            | 440kB 17.0MB/s eta 0:00:01\r\u001b[K     |████████████████████            | 450kB 17.0MB/s eta 0:00:01\r\u001b[K     |████████████████████▌           | 460kB 17.0MB/s eta 0:00:01\r\u001b[K     |█████████████████████           | 471kB 17.0MB/s eta 0:00:01\r\u001b[K     |█████████████████████▍          | 481kB 17.0MB/s eta 0:00:01\r\u001b[K     |█████████████████████▉          | 491kB 17.0MB/s eta 0:00:01\r\u001b[K     |██████████████████████▎         | 501kB 17.0MB/s eta 0:00:01\r\u001b[K     |██████████████████████▊         | 512kB 17.0MB/s eta 0:00:01\r\u001b[K     |███████████████████████▏        | 522kB 17.0MB/s eta 0:00:01\r\u001b[K     |███████████████████████▋        | 532kB 17.0MB/s eta 0:00:01\r\u001b[K     |████████████████████████▏       | 542kB 17.0MB/s eta 0:00:01\r\u001b[K     |████████████████████████▋       | 552kB 17.0MB/s eta 0:00:01\r\u001b[K     |█████████████████████████       | 563kB 17.0MB/s eta 0:00:01\r\u001b[K     |█████████████████████████▌      | 573kB 17.0MB/s eta 0:00:01\r\u001b[K     |██████████████████████████      | 583kB 17.0MB/s eta 0:00:01\r\u001b[K     |██████████████████████████▍     | 593kB 17.0MB/s eta 0:00:01\r\u001b[K     |██████████████████████████▉     | 604kB 17.0MB/s eta 0:00:01\r\u001b[K     |███████████████████████████▎    | 614kB 17.0MB/s eta 0:00:01\r\u001b[K     |███████████████████████████▊    | 624kB 17.0MB/s eta 0:00:01\r\u001b[K     |████████████████████████████▏   | 634kB 17.0MB/s eta 0:00:01\r\u001b[K     |████████████████████████████▊   | 645kB 17.0MB/s eta 0:00:01\r\u001b[K     |█████████████████████████████▏  | 655kB 17.0MB/s eta 0:00:01\r\u001b[K     |█████████████████████████████▋  | 665kB 17.0MB/s eta 0:00:01\r\u001b[K     |██████████████████████████████  | 675kB 17.0MB/s eta 0:00:01\r\u001b[K     |██████████████████████████████▌ | 686kB 17.0MB/s eta 0:00:01\r\u001b[K     |███████████████████████████████ | 696kB 17.0MB/s eta 0:00:01\r\u001b[K     |███████████████████████████████▍| 706kB 17.0MB/s eta 0:00:01\r\u001b[K     |███████████████████████████████▉| 716kB 17.0MB/s eta 0:00:01\r\u001b[K     |████████████████████████████████| 727kB 17.0MB/s \n",
            "\u001b[K     |████████████████████████████████| 194kB 59.1MB/s \n",
            "\u001b[K     |████████████████████████████████| 51kB 10.3MB/s \n",
            "\u001b[K     |████████████████████████████████| 1.2MB 59.2MB/s \n",
            "\u001b[K     |████████████████████████████████| 61kB 11.6MB/s \n",
            "\u001b[?25hMounted at /content/gdrive\n"
          ],
          "name": "stdout"
        }
      ]
    },
    {
      "cell_type": "code",
      "metadata": {
        "colab": {
          "base_uri": "https://localhost:8080/"
        },
        "id": "_edeO-tEZfEU",
        "outputId": "93271140-7053-48b7-d669-f0b4c8e74b3c"
      },
      "source": [
        "from google.colab import drive\n",
        "drive.mount('/content/drive')"
      ],
      "execution_count": 2,
      "outputs": [
        {
          "output_type": "stream",
          "text": [
            "Mounted at /content/drive\n"
          ],
          "name": "stdout"
        }
      ]
    },
    {
      "cell_type": "code",
      "metadata": {
        "hide_input": false,
        "id": "jM1TSWYg6cOx"
      },
      "source": [
        "#hide\n",
        "from fastbook import *"
      ],
      "execution_count": 3,
      "outputs": []
    },
    {
      "cell_type": "markdown",
      "metadata": {
        "id": "7KUziD6M6cOy"
      },
      "source": [
        "[[chapter_resnet]]"
      ]
    },
    {
      "cell_type": "markdown",
      "metadata": {
        "id": "LptYamnj6cOy"
      },
      "source": [
        "# ResNets"
      ]
    },
    {
      "cell_type": "markdown",
      "metadata": {
        "id": "aGJB-96_6cOy"
      },
      "source": [
        "In this chapter, we will build on top of the CNNs introduced in the previous chapter and explain to you the ResNet (residual network) architecture. It was introduced in 2015 by Kaiming He et al. in the article [\"Deep Residual Learning for Image Recognition\"](https://arxiv.org/abs/1512.03385) and is by far the most used model architecture nowadays. More recent developments in image models almost always use the same trick of residual connections, and most of the time, they are just a tweak of the original ResNet.\n",
        "\n",
        "We will first show you the basic ResNet as it was first designed, then explain to you what modern tweaks make it more performant. But first, we will need a problem a little bit more difficult than the MNIST dataset, since we are already close to 100% accuracy with a regular CNN on it."
      ]
    },
    {
      "cell_type": "markdown",
      "metadata": {
        "id": "u6AA31RY6cOy"
      },
      "source": [
        "## Going Back to Imagenette"
      ]
    },
    {
      "cell_type": "markdown",
      "metadata": {
        "id": "hNS9fikK6cOy"
      },
      "source": [
        "It's going to be tough to judge any improvements we make to our models when we are already at an accuracy that is as high as we saw on MNIST in the previous chapter, so we will tackle a tougher image classification problem by going back to Imagenette. We'll stick with small images to keep things reasonably fast.\n",
        "\n",
        "Let's grab the data—we'll use the already-resized 160 px version to make things faster still, and will random crop to 128 px:"
      ]
    },
    {
      "cell_type": "code",
      "metadata": {
        "id": "lhe6WJDU6cOz"
      },
      "source": [
        "def get_data(url, presize, resize):\n",
        "    path = untar_data(url)\n",
        "    return DataBlock(\n",
        "        blocks=(ImageBlock, CategoryBlock), get_items=get_image_files, \n",
        "        splitter=GrandparentSplitter(valid_name='val'),\n",
        "        get_y=parent_label, item_tfms=Resize(presize),\n",
        "        batch_tfms=[*aug_transforms(min_scale=0.5, size=resize),\n",
        "                    Normalize.from_stats(*imagenet_stats)],\n",
        "    ).dataloaders(path, bs=128)"
      ],
      "execution_count": 4,
      "outputs": []
    },
    {
      "cell_type": "code",
      "metadata": {
        "id": "WIQyQXVf6cOz",
        "colab": {
          "base_uri": "https://localhost:8080/",
          "height": 17
        },
        "outputId": "46ae32d6-3f48-42d5-a94c-412595ccf484"
      },
      "source": [
        "dls = get_data(URLs.IMAGENETTE_160, 160, 128)"
      ],
      "execution_count": 5,
      "outputs": [
        {
          "output_type": "display_data",
          "data": {
            "text/html": [
              ""
            ],
            "text/plain": [
              "<IPython.core.display.HTML object>"
            ]
          },
          "metadata": {
            "tags": []
          }
        }
      ]
    },
    {
      "cell_type": "code",
      "metadata": {
        "id": "Jhd-TRKG6cOz",
        "colab": {
          "base_uri": "https://localhost:8080/",
          "height": 373
        },
        "outputId": "0baa2961-a044-4937-c7cb-3f646e5bbab7"
      },
      "source": [
        "dls.show_batch(max_n=4)"
      ],
      "execution_count": 7,
      "outputs": [
        {
          "output_type": "display_data",
          "data": {
            "image/png": "[encoded data removed]",
            "text/plain": [
              "<Figure size 432x432 with 4 Axes>"
            ]
          },
          "metadata": {
            "tags": [],
            "needs_background": "light"
          }
        }
      ]
    },
    {
      "cell_type": "markdown",
      "metadata": {
        "id": "pcwQPm8S6cO0"
      },
      "source": [
        "When we looked at MNIST we were dealing with 28×28-pixel images. For Imagenette we are going to be training with 128×128-pixel images. Later, we would like to be able to use larger images as well—at least as big as 224×224 pixels, the ImageNet standard. Do you recall how we managed to get a single vector of activations for each image out of the MNIST convolutional neural network?\n",
        "\n",
        "The approach we used was to ensure that there were enough stride-2 convolutions such that the final layer would have a grid size of 1. Then we just flattened out the unit axes that we ended up with, to get a vector for each image (so, a matrix of activations for a mini-batch). We could do the same thing for Imagenette, but that would cause two problems:\n",
        "\n",
        "- We'd need lots of stride-2 layers to make our grid 1×1 at the end—perhaps more than we would otherwise choose.\n",
        "- The model would not work on images of any size other than the size we originally trained on.\n",
        "\n",
        "One approach to dealing with the first of these issues would be to flatten the final convolutional layer in a way that handles a grid size other than 1×1. That is, we could simply flatten a matrix into a vector as we have done before, by laying out each row after the previous row. In fact, this is the approach that convolutional neural networks up until 2013 nearly always took. The most famous example is the 2013 ImageNet winner VGG, still sometimes used today. But there was another problem with this architecture: not only did it not work with images other than those of the same size used in the training set, but it required a lot of memory, because flattening out the convolutional layer resulted in many activations being fed into the final layers. Therefore, the weight matrices of the final layers were enormous.\n",
        "\n",
        "This problem was solved through the creation of *fully convolutional networks*. The trick in fully convolutional networks is to take the average of activations across a convolutional grid. In other words, we can simply use this function:"
      ]
    },
    {
      "cell_type": "code",
      "metadata": {
        "id": "gViDpQD_6cO0"
      },
      "source": [
        "def avg_pool(x): return x.mean((2,3))"
      ],
      "execution_count": 8,
      "outputs": []
    },
    {
      "cell_type": "markdown",
      "metadata": {
        "id": "Iyu5_2Ef6cO1"
      },
      "source": [
        "As you see, it is taking the mean over the x- and y-axes. This function will always convert a grid of activations into a single activation per image. PyTorch provides a slightly more versatile module called `nn.AdaptiveAvgPool2d`, which averages a grid of activations into whatever sized destination you require (although we nearly always use a size of 1).\n",
        "\n",
        "A fully convolutional network, therefore, has a number of convolutional layers, some of which will be stride 2, at the end of which is an adaptive average pooling layer, a flatten layer to remove the unit axes, and finally a linear layer. Here is our first fully convolutional network:"
      ]
    },
    {
      "cell_type": "code",
      "metadata": {
        "id": "MdpHH4dN6cO1"
      },
      "source": [
        "def block(ni, nf): return ConvLayer(ni, nf, stride=2)\n",
        "def get_model():\n",
        "    return nn.Sequential(\n",
        "        block(3, 16),\n",
        "        block(16, 32),\n",
        "        block(32, 64),\n",
        "        block(64, 128),\n",
        "        block(128, 256),\n",
        "        nn.AdaptiveAvgPool2d(1),\n",
        "        Flatten(),\n",
        "        nn.Linear(256, dls.c))"
      ],
      "execution_count": 9,
      "outputs": []
    },
    {
      "cell_type": "markdown",
      "metadata": {
        "id": "8jtGQlHX6cO1"
      },
      "source": [
        "We're going to be replacing the implementation of `block` in the network with other variants in a moment, which is why we're not calling it `conv` any more. We're also saving some time by taking advantage of fastai's `ConvLayer`, which that already provides the functionality of `conv` from the last chapter (plus a lot more!)."
      ]
    },
    {
      "cell_type": "markdown",
      "metadata": {
        "id": "91D5g3U26cO4"
      },
      "source": [
        "> stop: Consider this question: would this approach makes sense for an optical character recognition (OCR) problem such as MNIST? The vast majority of practitioners tackling OCR and similar problems tend to use fully convolutional networks, because that's what nearly everybody learns nowadays. But it really doesn't make any sense! You can't decide, for instance, whether a number is a 3 or an 8 by slicing it into small pieces, jumbling them up, and deciding whether on average each piece looks like a 3 or an 8. But that's what adaptive average pooling effectively does! Fully convolutional networks are only really a good choice for objects that don't have a single correct orientation or size (e.g., like most natural photos)."
      ]
    },
    {
      "cell_type": "markdown",
      "metadata": {
        "id": "vh47gHCW6cPA"
      },
      "source": [
        "Once we are done with our convolutional layers, we will get activations of size `bs x ch x h x w` (batch size, a certain number of channels, height, and width). We want to convert this to a tensor of size `bs x ch`, so we take the average over the last two dimensions and flatten the trailing 1×1 dimension like we did in our previous model. \n",
        "\n",
        "This is different from regular pooling in the sense that those layers will generally take the average (for average pooling) or the maximum (for max pooling) of a window of a given size. For instance, max pooling layers of size 2, which were very popular in older CNNs, reduce the size of our image by half on each dimension by taking the maximum of each 2×2 window (with a stride of 2).\n",
        "\n",
        "As before, we can define a `Learner` with our custom model and then train it on the data we grabbed earlier:"
      ]
    },
    {
      "cell_type": "code",
      "metadata": {
        "id": "kEsfqGxK6cPB"
      },
      "source": [
        "def get_learner(m):\n",
        "    return Learner(dls, m, loss_func=nn.CrossEntropyLoss(), metrics=accuracy\n",
        "                  ).to_fp16()\n",
        "\n",
        "learn = get_learner(get_model())"
      ],
      "execution_count": 10,
      "outputs": []
    },
    {
      "cell_type": "code",
      "metadata": {
        "id": "hQH_tnIR6cPB",
        "colab": {
          "base_uri": "https://localhost:8080/",
          "height": 300
        },
        "outputId": "6bcf5957-2937-4298-ef1c-3f6eae98f29c"
      },
      "source": [
        "learn.lr_find()"
      ],
      "execution_count": 11,
      "outputs": [
        {
          "output_type": "display_data",
          "data": {
            "text/html": [
              ""
            ],
            "text/plain": [
              "<IPython.core.display.HTML object>"
            ]
          },
          "metadata": {
            "tags": []
          }
        },
        {
          "output_type": "execute_result",
          "data": {
            "text/plain": [
              "SuggestedLRs(lr_min=0.005754399299621582, lr_steep=0.001737800776027143)"
            ]
          },
          "metadata": {
            "tags": []
          },
          "execution_count": 11
        },
        {
          "output_type": "display_data",
          "data": {
            "image/png": "[encoded data removed]",
            "text/plain": [
              "<Figure size 432x288 with 1 Axes>"
            ]
          },
          "metadata": {
            "tags": [],
            "needs_background": "light"
          }
        }
      ]
    },
    {
      "cell_type": "markdown",
      "metadata": {
        "id": "GmrYSJ5t6cPC"
      },
      "source": [
        "3e-3 is often a good learning rate for CNNs, and that appears to be the case here too, so let's try that:"
      ]
    },
    {
      "cell_type": "code",
      "metadata": {
        "id": "3ElwLBJm6cPC",
        "colab": {
          "base_uri": "https://localhost:8080/",
          "height": 194
        },
        "outputId": "acc1db04-4a80-481c-9af0-ddb61cdd3513"
      },
      "source": [
        "learn.fit_one_cycle(5, 3e-3)"
      ],
      "execution_count": 12,
      "outputs": [
        {
          "output_type": "display_data",
          "data": {
            "text/html": [
              "<table border=\"1\" class=\"dataframe\">\n",
              "  <thead>\n",
              "    <tr style=\"text-align: left;\">\n",
              "      <th>epoch</th>\n",
              "      <th>train_loss</th>\n",
              "      <th>valid_loss</th>\n",
              "      <th>accuracy</th>\n",
              "      <th>time</th>\n",
              "    </tr>\n",
              "  </thead>\n",
              "  <tbody>\n",
              "    <tr>\n",
              "      <td>0</td>\n",
              "      <td>1.890268</td>\n",
              "      <td>1.832815</td>\n",
              "      <td>0.382166</td>\n",
              "      <td>00:22</td>\n",
              "    </tr>\n",
              "    <tr>\n",
              "      <td>1</td>\n",
              "      <td>1.561231</td>\n",
              "      <td>1.466524</td>\n",
              "      <td>0.531465</td>\n",
              "      <td>00:22</td>\n",
              "    </tr>\n",
              "    <tr>\n",
              "      <td>2</td>\n",
              "      <td>1.315736</td>\n",
              "      <td>1.477919</td>\n",
              "      <td>0.546242</td>\n",
              "      <td>00:23</td>\n",
              "    </tr>\n",
              "    <tr>\n",
              "      <td>3</td>\n",
              "      <td>1.150371</td>\n",
              "      <td>1.156244</td>\n",
              "      <td>0.628535</td>\n",
              "      <td>00:22</td>\n",
              "    </tr>\n",
              "    <tr>\n",
              "      <td>4</td>\n",
              "      <td>1.042883</td>\n",
              "      <td>1.095279</td>\n",
              "      <td>0.650701</td>\n",
              "      <td>00:22</td>\n",
              "    </tr>\n",
              "  </tbody>\n",
              "</table>"
            ],
            "text/plain": [
              "<IPython.core.display.HTML object>"
            ]
          },
          "metadata": {
            "tags": []
          }
        }
      ]
    },
    {
      "cell_type": "markdown",
      "metadata": {
        "id": "P1LMvgXI6cPC"
      },
      "source": [
        "That's a pretty good start, considering we have to pick the correct one of 10 categories, and we're training from scratch for just 5 epochs! We can do way better than this using a deeper mode, but just stacking new layers won't really improve our results (you can try and see for yourself!). To work around this problem, ResNets introduce the idea of *skip connections*. We'll explore those and other aspects of ResNets in the next section."
      ]
    },
    {
      "cell_type": "markdown",
      "metadata": {
        "id": "h2_KA0BY6cPC"
      },
      "source": [
        "## Building a Modern CNN: ResNet"
      ]
    },
    {
      "cell_type": "markdown",
      "metadata": {
        "id": "zrLNy1Th6cPD"
      },
      "source": [
        "We now have all the pieces we need to build the models we have been using in our computer vision tasks since the beginning of this book: ResNets. We'll introduce the main idea behind them and show how it improves accuracy on Imagenette compared to our previous model, before building a version with all the recent tweaks."
      ]
    },
    {
      "cell_type": "markdown",
      "metadata": {
        "id": "pg_bOY7U6cPD"
      },
      "source": [
        "### Skip Connections"
      ]
    },
    {
      "cell_type": "markdown",
      "metadata": {
        "id": "euApfUcJ6cPD"
      },
      "source": [
        "In 2015, the authors of the ResNet paper noticed something that they found curious. Even after using batchnorm, they saw that a network using more layers was doing less well than a network using fewer layers—and there were no other differences between the models. Most interestingly, the difference was observed not only in the validation set, but also in the training set; so, it wasn't just a generalization issue, but a training issue. As the paper explains:\n",
        "\n",
        "> : Unexpectedly, such degradation is not caused by overfitting, and adding more layers to a suitably deep model leads to higher training error, as [previously reported] and thoroughly verified by our experiments.\n",
        "\n",
        "This phenomenon was illustrated by the graph in <<resnet_depth>>, with training error on the left and test error on the right."
      ]
    },
    {
      "cell_type": "markdown",
      "metadata": {
        "id": "LSv0mChP6cPD"
      },
      "source": [
        "<img alt=\"Training of networks of different depth\" width=\"700\" caption=\"Training of networks of different depth (courtesy of Kaiming He et al.)\" id=\"resnet_depth\" src=\"https://github.com/fastai/fastbook/blob/master/images/att_00042.png?raw=1\">"
      ]
    },
    {
      "cell_type": "markdown",
      "metadata": {
        "id": "NObTekOi6cPD"
      },
      "source": [
        "As the authors mention here, they are not the first people to have noticed this curious fact. But they were the first to make a very important leap:\n",
        "\n",
        "> : Let us consider a shallower architecture and its deeper counterpart that adds more layers onto it. There exists a solution by construction to the deeper model: the added layers are identity mapping, and the other layers are copied from the learned shallower model.\n",
        "\n",
        "As this is an academic paper this process is described in a rather inaccessible way, but the concept is actually very simple: start with a 20-layer neural network that is trained well, and add another 36 layers that do nothing at all (for instance, they could be linear layers with a single weight equal to 1, and bias equal to 0). The result will be a 56-layer network that does exactly the same thing as the 20-layer network, proving that there are always deep networks that should be *at least as good* as any shallow network. But for some reason, SGD does not seem able to find them.\n",
        "\n",
        "> jargon: Identity mapping: Returning the input without changing it at all. This process is performed by an _identity function_.\n",
        "\n",
        "Actually, there is another way to create those extra 36 layers, which is much more interesting. What if we replaced every occurrence of `conv(x)` with `x + conv(x)`, where `conv` is the function from the previous chapter that adds a second convolution, then a ReLU, then a batchnorm layer. Furthermore, recall that batchnorm does `gamma*y + beta`. What if we initialized `gamma` to zero for every one of those final batchnorm layers? Then our `conv(x)` for those extra 36 layers will always be equal to zero, which means `x+conv(x)` will always be equal to `x`.\n",
        "\n",
        "What has that gained us? The key thing is that those 36 extra layers, as they stand, are an *identity mapping*, but they have *parameters*, which means they are *trainable*. So, we can start with our best 20-layer model, add these 36 extra layers which initially do nothing at all, and then *fine-tune the whole 56-layer model*. Those extra 36 layers can then learn the parameters that make them most useful.\n",
        "\n",
        "The ResNet paper actually proposed a variant of this, which is to instead \"skip over\" every second convolution, so effectively we get `x+conv2(conv1(x))`. This is shown by the diagram in <<resnet_block>> (from the paper)."
      ]
    },
    {
      "cell_type": "markdown",
      "metadata": {
        "id": "Wp4GoOLc6cPE"
      },
      "source": [
        "<img alt=\"A simple ResNet block\" width=\"331\" caption=\"A simple ResNet block (courtesy of Kaiming He et al.)\" id=\"resnet_block\" src=\"https://github.com/fastai/fastbook/blob/master/images/att_00043.png?raw=1\">"
      ]
    },
    {
      "cell_type": "markdown",
      "metadata": {
        "id": "-U6dYP6N6cPE"
      },
      "source": [
        "That arrow on the right is just the `x` part of `x+conv2(conv1(x))`, and is known as the *identity branch* or *skip connection*. The path on the left is the `conv2(conv1(x))` part. You can think of the identity path as providing a direct route from the input to the output.\n",
        "\n",
        "In a ResNet, we don't actually proceed by first training a smaller number of layers, and then adding new layers on the end and fine-tuning. Instead, we use ResNet blocks like the one in <<resnet_block>> throughout the CNN, initialized from scratch in the usual way, and trained with SGD in the usual way. We rely on the skip connections to make the network easier to train with SGD."
      ]
    },
    {
      "cell_type": "markdown",
      "metadata": {
        "id": "HKKbruNf6cPE"
      },
      "source": [
        "There's another (largely equivalent) way to think of these ResNet blocks. This is how the paper describes it:\n",
        "\n",
        "> : Instead of hoping each few stacked layers directly fit a desired underlying mapping, we explicitly let these layers fit a residual mapping. Formally, denoting the desired underlying mapping as H(x), we let the stacked nonlinear layers fit another mapping of F(x) := H(x)−x. The original mapping is recast into F(x)+x. We hypothesize that it is easier to optimize the residual mapping than to optimize the original, unreferenced mapping. To the extreme, if an identity mapping were optimal, it would be easier to push the residual to zero than to fit an identity mapping by a stack of nonlinear layers.\n",
        "\n",
        "Again, this is rather inaccessible prose—so let's try to restate it in plain English! If the outcome of a given layer is `x`, when using a ResNet block that returns `y = x+block(x)` we're not asking the block to predict `y`, we are asking it to predict the difference between `y` and `x`. So the job of those blocks isn't to predict certain features, but to minimize the error between `x` and the desired `y`. A ResNet is, therefore, good at learning about slight differences between doing nothing and passing though a block of two convolutional layers (with trainable weights). This is how these models got their name: they're predicting residuals (reminder: \"residual\" is prediction minus target).\n",
        "\n",
        "One key concept that both of these two ways of thinking about ResNets share is the idea of ease of learning. This is an important theme. Recall the universal approximation theorem, which states that a sufficiently large network can learn anything. This is still true, but there turns out to be a very important difference between what a network *can learn* in principle, and what it is *easy for it to learn* with realistic data and training regimes. Many of the advances in neural networks over the last decade have been like the ResNet block: the result of realizing how to make something that was always possible actually feasible.\n",
        "\n",
        "> note: True Identity Path: The original paper didn't actually do the trick of using zero for the initial value of `gamma` in the last batchnorm layer of each block; that came a couple of years later. So, the original version of ResNet didn't quite begin training with a truly identity path through the ResNet blocks, but nonetheless having the ability to \"navigate through\" the skip connections did indeed make it train better. Adding the batchnorm `gamma` init trick made the models train at even higher learning rates.\n",
        "\n",
        "Here's the definition of a simple ResNet block (where `norm_type=NormType.BatchZero` causes fastai to init the `gamma` weights of the last batchnorm layer to zero):"
      ]
    },
    {
      "cell_type": "code",
      "metadata": {
        "id": "EEQcPTmZ6cPE"
      },
      "source": [
        "class ResBlock(Module):\n",
        "    def __init__(self, ni, nf):\n",
        "        self.convs = nn.Sequential(\n",
        "            ConvLayer(ni,nf),\n",
        "            ConvLayer(nf,nf, norm_type=NormType.BatchZero))\n",
        "        \n",
        "    def forward(self, x): return x + self.convs(x)"
      ],
      "execution_count": 13,
      "outputs": []
    },
    {
      "cell_type": "markdown",
      "metadata": {
        "id": "BHH3bDVi6cPF"
      },
      "source": [
        "There are two problems with this, however: it can't handle a stride other than 1, and it requires that `ni==nf`. Stop for a moment to think carefully about why this is.\n",
        "\n",
        "The issue is that with a stride of, say, 2 on one of the convolutions, the grid size of the output activations will be half the size on each axis of the input. So then we can't add that back to `x` in `forward` because `x` and the output activations have different dimensions. The same basic issue occurs if `ni!=nf`: the shapes of the input and output connections won't allow us to add them together.\n",
        "\n",
        "To fix this, we need a way to change the shape of `x` to match the result of `self.convs`. Halving the grid size can be done using an average pooling layer with a stride of 2: that is, a layer that takes 2×2 patches from the input and replaces them with their average.\n",
        "\n",
        "Changing the number of channels can be done by using a convolution. We want this skip connection to be as close to an identity map as possible, however, which means making this convolution as simple as possible. The simplest possible convolution is one where the kernel size is 1. That means that the kernel is size `ni*nf*1*1`, so it's only doing a dot product over the channels of each input pixel—it's not combining across pixels at all. This kind of *1x1 convolution* is very widely used in modern CNNs, so take a moment to think about how it works."
      ]
    },
    {
      "cell_type": "markdown",
      "metadata": {
        "id": "dWeem6qP6cPF"
      },
      "source": [
        "> jargon: 1x1 convolution: A convolution with a kernel size of 1."
      ]
    },
    {
      "cell_type": "markdown",
      "metadata": {
        "id": "qOkIrwM76cPH"
      },
      "source": [
        "Here's a ResBlock using these tricks to handle changing shape in the skip connection:"
      ]
    },
    {
      "cell_type": "code",
      "metadata": {
        "id": "G_qs8mJ36cPI"
      },
      "source": [
        "def _conv_block(ni,nf,stride):\n",
        "    return nn.Sequential(\n",
        "        ConvLayer(ni, nf, stride=stride),\n",
        "        ConvLayer(nf, nf, act_cls=None, norm_type=NormType.BatchZero))"
      ],
      "execution_count": 14,
      "outputs": []
    },
    {
      "cell_type": "code",
      "metadata": {
        "id": "iBwd8qQP6cPJ"
      },
      "source": [
        "class ResBlock(Module):\n",
        "    def __init__(self, ni, nf, stride=1):\n",
        "        self.convs = _conv_block(ni,nf,stride)\n",
        "        self.idconv = noop if ni==nf else ConvLayer(ni, nf, 1, act_cls=None)\n",
        "        self.pool = noop if stride==1 else nn.AvgPool2d(2, ceil_mode=True)\n",
        "\n",
        "    def forward(self, x):\n",
        "        return F.relu(self.convs(x) + self.idconv(self.pool(x)))"
      ],
      "execution_count": 15,
      "outputs": []
    },
    {
      "cell_type": "markdown",
      "metadata": {
        "id": "Xob9Axz26cPJ"
      },
      "source": [
        "Note that we're using the `noop` function here, which simply returns its input unchanged (*noop* is a computer science term that stands for \"no operation\"). In this case, `idconv` does nothing at all if `ni==nf`, and `pool` does nothing if `stride==1`, which is what we wanted in our skip connection.\n",
        "\n",
        "Also, you'll see that we've removed the ReLU (`act_cls=None`) from the final convolution in `convs` and from `idconv`, and moved it to *after* we add the skip connection. The thinking behind this is that the whole ResNet block is like a layer, and you want your activation to be after your layer.\n",
        "\n",
        "Let's replace our `block` with `ResBlock`, and try it out:"
      ]
    },
    {
      "cell_type": "code",
      "metadata": {
        "id": "TiLbVokG6cPJ"
      },
      "source": [
        "def block(ni,nf): return ResBlock(ni, nf, stride=2)\n",
        "learn = get_learner(get_model())"
      ],
      "execution_count": 16,
      "outputs": []
    },
    {
      "cell_type": "code",
      "metadata": {
        "id": "BAmKeBP66cPJ",
        "colab": {
          "base_uri": "https://localhost:8080/",
          "height": 194
        },
        "outputId": "712a08b2-d91c-45a1-a2dd-769080792bbe"
      },
      "source": [
        "learn.fit_one_cycle(5, 3e-3)"
      ],
      "execution_count": 17,
      "outputs": [
        {
          "output_type": "display_data",
          "data": {
            "text/html": [
              "<table border=\"1\" class=\"dataframe\">\n",
              "  <thead>\n",
              "    <tr style=\"text-align: left;\">\n",
              "      <th>epoch</th>\n",
              "      <th>train_loss</th>\n",
              "      <th>valid_loss</th>\n",
              "      <th>accuracy</th>\n",
              "      <th>time</th>\n",
              "    </tr>\n",
              "  </thead>\n",
              "  <tbody>\n",
              "    <tr>\n",
              "      <td>0</td>\n",
              "      <td>1.948339</td>\n",
              "      <td>1.908264</td>\n",
              "      <td>0.327643</td>\n",
              "      <td>00:23</td>\n",
              "    </tr>\n",
              "    <tr>\n",
              "      <td>1</td>\n",
              "      <td>1.691161</td>\n",
              "      <td>1.487592</td>\n",
              "      <td>0.526369</td>\n",
              "      <td>00:23</td>\n",
              "    </tr>\n",
              "    <tr>\n",
              "      <td>2</td>\n",
              "      <td>1.405770</td>\n",
              "      <td>1.279272</td>\n",
              "      <td>0.585987</td>\n",
              "      <td>00:23</td>\n",
              "    </tr>\n",
              "    <tr>\n",
              "      <td>3</td>\n",
              "      <td>1.191577</td>\n",
              "      <td>1.150129</td>\n",
              "      <td>0.628280</td>\n",
              "      <td>00:24</td>\n",
              "    </tr>\n",
              "    <tr>\n",
              "      <td>4</td>\n",
              "      <td>1.049551</td>\n",
              "      <td>1.060802</td>\n",
              "      <td>0.661401</td>\n",
              "      <td>00:23</td>\n",
              "    </tr>\n",
              "  </tbody>\n",
              "</table>"
            ],
            "text/plain": [
              "<IPython.core.display.HTML object>"
            ]
          },
          "metadata": {
            "tags": []
          }
        }
      ]
    },
    {
      "cell_type": "markdown",
      "metadata": {
        "id": "v4OFcnRl6cPJ"
      },
      "source": [
        "It's not much better. But the whole point of this was to allow us to train *deeper* models, and we're not really taking advantage of that yet. To create a model that's, say, twice as deep, all we need to do is replace our `block` with two `ResBlock`s in a row:"
      ]
    },
    {
      "cell_type": "code",
      "metadata": {
        "id": "noDf8Ouk6cPJ"
      },
      "source": [
        "def block(ni, nf):\n",
        "    return nn.Sequential(ResBlock(ni, nf, stride=2), ResBlock(nf, nf))"
      ],
      "execution_count": 18,
      "outputs": []
    },
    {
      "cell_type": "code",
      "metadata": {
        "id": "q8QvPmJv6cPK",
        "colab": {
          "base_uri": "https://localhost:8080/",
          "height": 194
        },
        "outputId": "618a55db-8b89-4bd6-99be-a0e237eb960a"
      },
      "source": [
        "learn = get_learner(get_model())\n",
        "learn.fit_one_cycle(5, 3e-3)"
      ],
      "execution_count": 19,
      "outputs": [
        {
          "output_type": "display_data",
          "data": {
            "text/html": [
              "<table border=\"1\" class=\"dataframe\">\n",
              "  <thead>\n",
              "    <tr style=\"text-align: left;\">\n",
              "      <th>epoch</th>\n",
              "      <th>train_loss</th>\n",
              "      <th>valid_loss</th>\n",
              "      <th>accuracy</th>\n",
              "      <th>time</th>\n",
              "    </tr>\n",
              "  </thead>\n",
              "  <tbody>\n",
              "    <tr>\n",
              "      <td>0</td>\n",
              "      <td>1.956474</td>\n",
              "      <td>1.889498</td>\n",
              "      <td>0.361783</td>\n",
              "      <td>00:25</td>\n",
              "    </tr>\n",
              "    <tr>\n",
              "      <td>1</td>\n",
              "      <td>1.630808</td>\n",
              "      <td>1.455966</td>\n",
              "      <td>0.526879</td>\n",
              "      <td>00:25</td>\n",
              "    </tr>\n",
              "    <tr>\n",
              "      <td>2</td>\n",
              "      <td>1.335890</td>\n",
              "      <td>1.199354</td>\n",
              "      <td>0.614777</td>\n",
              "      <td>00:25</td>\n",
              "    </tr>\n",
              "    <tr>\n",
              "      <td>3</td>\n",
              "      <td>1.112229</td>\n",
              "      <td>0.979990</td>\n",
              "      <td>0.689427</td>\n",
              "      <td>00:24</td>\n",
              "    </tr>\n",
              "    <tr>\n",
              "      <td>4</td>\n",
              "      <td>0.953613</td>\n",
              "      <td>0.962070</td>\n",
              "      <td>0.693503</td>\n",
              "      <td>00:25</td>\n",
              "    </tr>\n",
              "  </tbody>\n",
              "</table>"
            ],
            "text/plain": [
              "<IPython.core.display.HTML object>"
            ]
          },
          "metadata": {
            "tags": []
          }
        }
      ]
    },
    {
      "cell_type": "markdown",
      "metadata": {
        "id": "8bB4ghaq6cPK"
      },
      "source": [
        "Now we're making good progress!\n",
        "\n",
        "The authors of the ResNet paper went on to win the 2015 ImageNet challenge. At the time, this was by far the most important annual event in computer vision. We have already seen another ImageNet winner: the 2013 winners, Zeiler and Fergus. It is interesting to note that in both cases the starting points for the breakthroughs were experimental observations: observations about what layers actually learn, in the case of Zeiler and Fergus, and observations about which kinds of networks can be trained, in the case of the ResNet authors. This ability to design and analyze thoughtful experiments, or even just to see an unexpected result, say \"Hmmm, that's interesting,\" and then, most importantly, set about figuring out what on earth is going on, with great tenacity, is at the heart of many scientific discoveries. Deep learning is not like pure mathematics. It is a heavily experimental field, so it's important to be a strong practitioner, not just a theoretician.\n",
        "\n",
        "Since the ResNet was introduced, it's been widely studied and applied to many domains. One of the most interesting papers, published in 2018, is Hao Li et al.'s [\"Visualizing the Loss Landscape of Neural Nets\"](https://arxiv.org/abs/1712.09913). It shows that using skip connections helps smooth the loss function, which makes training easier as it avoids falling into a very sharp area. <<resnet_surface>> shows a stunning picture from the paper, illustrating the difference between the bumpy terrain that SGD has to navigate to optimize a regular CNN (left) versus the smooth surface of a ResNet (right)."
      ]
    },
    {
      "cell_type": "markdown",
      "metadata": {
        "id": "ZyEIqaju6cPL"
      },
      "source": [
        "<img alt=\"Impact of ResNet on loss landscape\" width=\"600\" caption=\"Impact of ResNet on loss landscape (courtesy of Hao Li et al.)\" id=\"resnet_surface\" src=\"https://github.com/fastai/fastbook/blob/master/images/att_00044.png?raw=1\">"
      ]
    },
    {
      "cell_type": "markdown",
      "metadata": {
        "id": "XKTWiG3t6cPL"
      },
      "source": [
        "Our first model is already good, but further research has discovered more tricks we can apply to make it better. We'll look at those next."
      ]
    },
    {
      "cell_type": "markdown",
      "metadata": {
        "id": "lmYg4LMl6cPL"
      },
      "source": [
        "### A State-of-the-Art ResNet"
      ]
    },
    {
      "cell_type": "markdown",
      "metadata": {
        "id": "eo9DnsQj6cPL"
      },
      "source": [
        "In [\"Bag of Tricks for Image Classification with Convolutional Neural Networks\"](https://arxiv.org/abs/1812.01187), Tong He et al. study different variations of the ResNet architecture that come at almost no additional cost in terms of number of parameters or computation. By using a tweaked ResNet-50 architecture and Mixup they achieved 94.6% top-5 accuracy on ImageNet, in comparison to 92.2% with a regular ResNet-50 without Mixup. This result is better than that achieved by regular ResNet models that are twice as deep (and twice as slow, and much more likely to overfit)."
      ]
    },
    {
      "cell_type": "markdown",
      "metadata": {
        "id": "VQHv2OBS6cPL"
      },
      "source": [
        "> jargon: top-5 accuracy: A metric testing how often the label we want is in the top 5 predictions of our model. It was used in the ImageNet competition because many of the images contained multiple objects, or contained objects that could be easily confused or may even have been mislabeled with a similar label. In these situations, looking at top-1 accuracy may be inappropriate. However, recently CNNs have been getting so good that top-5 accuracy is nearly 100%, so some researchers are using top-1 accuracy for ImageNet too now."
      ]
    },
    {
      "cell_type": "markdown",
      "metadata": {
        "id": "EkLG8IXB6cPL"
      },
      "source": [
        "We'll use this tweaked version as we scale up to the full ResNet, because it's substantially better. It differs a little bit from our previous implementation, in that instead of just starting with ResNet blocks, it begins with a few convolutional layers followed by a max pooling layer. This is what the first layers, called the *stem* of the network, look like:"
      ]
    },
    {
      "cell_type": "code",
      "metadata": {
        "id": "wJt7YapE6cPL"
      },
      "source": [
        "def _resnet_stem(*sizes):\n",
        "    return [\n",
        "        ConvLayer(sizes[i], sizes[i+1], 3, stride = 2 if i==0 else 1)\n",
        "            for i in range(len(sizes)-1)\n",
        "    ] + [nn.MaxPool2d(kernel_size=3, stride=2, padding=1)]"
      ],
      "execution_count": 20,
      "outputs": []
    },
    {
      "cell_type": "code",
      "metadata": {
        "id": "0gSP1GHf6cPL",
        "colab": {
          "base_uri": "https://localhost:8080/"
        },
        "outputId": "b32e85a3-223f-4630-cf93-e0be8509e722"
      },
      "source": [
        "#hide_output\n",
        "_resnet_stem(3,32,32,64)"
      ],
      "execution_count": 21,
      "outputs": [
        {
          "output_type": "execute_result",
          "data": {
            "text/plain": [
              "[ConvLayer(\n",
              "   (0): Conv2d(3, 32, kernel_size=(3, 3), stride=(2, 2), padding=(1, 1), bias=False)\n",
              "   (1): BatchNorm2d(32, eps=1e-05, momentum=0.1, affine=True, track_running_stats=True)\n",
              "   (2): ReLU()\n",
              " ), ConvLayer(\n",
              "   (0): Conv2d(32, 32, kernel_size=(3, 3), stride=(1, 1), padding=(1, 1), bias=False)\n",
              "   (1): BatchNorm2d(32, eps=1e-05, momentum=0.1, affine=True, track_running_stats=True)\n",
              "   (2): ReLU()\n",
              " ), ConvLayer(\n",
              "   (0): Conv2d(32, 64, kernel_size=(3, 3), stride=(1, 1), padding=(1, 1), bias=False)\n",
              "   (1): BatchNorm2d(64, eps=1e-05, momentum=0.1, affine=True, track_running_stats=True)\n",
              "   (2): ReLU()\n",
              " ), MaxPool2d(kernel_size=3, stride=2, padding=1, dilation=1, ceil_mode=False)]"
            ]
          },
          "metadata": {
            "tags": []
          },
          "execution_count": 21
        }
      ]
    },
    {
      "cell_type": "markdown",
      "metadata": {
        "id": "E04r5Z_d6cPL"
      },
      "source": [
        "```\n",
        "[ConvLayer(\n",
        "   (0): Conv2d(3, 32, kernel_size=(3, 3), stride=(2, 2), padding=(1, 1))\n",
        "   (1): BatchNorm2d(32, eps=1e-05, momentum=0.1)\n",
        "   (2): ReLU()\n",
        " ), ConvLayer(\n",
        "   (0): Conv2d(32, 32, kernel_size=(3, 3), stride=(1, 1), padding=(1, 1))\n",
        "   (1): BatchNorm2d(32, eps=1e-05, momentum=0.1)\n",
        "   (2): ReLU()\n",
        " ), ConvLayer(\n",
        "   (0): Conv2d(32, 64, kernel_size=(3, 3), stride=(1, 1), padding=(1, 1))\n",
        "   (1): BatchNorm2d(64, eps=1e-05, momentum=0.1)\n",
        "   (2): ReLU()\n",
        " ), MaxPool2d(kernel_size=3, stride=2, padding=1, ceil_mode=False)]\n",
        " ```"
      ]
    },
    {
      "cell_type": "markdown",
      "metadata": {
        "id": "fXOJLPIg6cPM"
      },
      "source": [
        "> jargon: Stem: The first few layers of a CNN. Generally, the stem has a different structure than the main body of the CNN."
      ]
    },
    {
      "cell_type": "markdown",
      "metadata": {
        "id": "mirKosxq6cPM"
      },
      "source": [
        "The reason that we have a stem of plain convolutional layers, instead of ResNet blocks, is based on a very important insight about all deep convolutional neural networks: the vast majority of the computation occurs in the early layers. Therefore, we should keep the early layers as fast and simple as possible.\n",
        "\n",
        "To see why so much computation occurs in the early layers, consider the very first convolution on a 128-pixel input image. If it is a stride-1 convolution, then it will apply the kernel to every one of the 128×128 pixels. That's a lot of work! In the later layers, however, the grid size could be as small as 4×4 or even 2×2, so there are far fewer kernel applications to do.\n",
        "\n",
        "On the other hand, the first-layer convolution only has 3 input features and 32 output features. Since it is a 3×3 kernel, this is 3×32×3×3 = 864 parameters in the weights. But the last convolution will have 256 input features and 512 output features, resulting in 1,179,648 weights! So the first layers contain the vast majority of the computation, but the last layers contain the vast majority of the parameters.\n",
        "\n",
        "A ResNet block takes more computation than a plain convolutional block, since (in the stride-2 case) a ResNet block has three convolutions and a pooling layer. That's why we want to have plain convolutions to start off our ResNet.\n",
        "\n",
        "We're now ready to show the implementation of a modern ResNet, with the \"bag of tricks.\" It uses four groups of ResNet blocks, with 64, 128, 256, then 512 filters. Each group starts with a stride-2 block, except for the first one, since it's just after a `MaxPooling` layer:"
      ]
    },
    {
      "cell_type": "code",
      "metadata": {
        "id": "9R1kpCpI6cPM"
      },
      "source": [
        "class ResNet(nn.Sequential):\n",
        "    def __init__(self, n_out, layers, expansion=1):\n",
        "        stem = _resnet_stem(3,32,32,64)\n",
        "        self.block_szs = [64, 64, 128, 256, 512]\n",
        "        for i in range(1,5): self.block_szs[i] *= expansion\n",
        "        blocks = [self._make_layer(*o) for o in enumerate(layers)]\n",
        "        super().__init__(*stem, *blocks,\n",
        "                         nn.AdaptiveAvgPool2d(1), Flatten(),\n",
        "                         nn.Linear(self.block_szs[-1], n_out))\n",
        "    \n",
        "    def _make_layer(self, idx, n_layers):\n",
        "        stride = 1 if idx==0 else 2\n",
        "        ch_in,ch_out = self.block_szs[idx:idx+2]\n",
        "        return nn.Sequential(*[\n",
        "            ResBlock(ch_in if i==0 else ch_out, ch_out, stride if i==0 else 1)\n",
        "            for i in range(n_layers)\n",
        "        ])"
      ],
      "execution_count": 22,
      "outputs": []
    },
    {
      "cell_type": "markdown",
      "metadata": {
        "id": "_-6jFPg36cPM"
      },
      "source": [
        "The `_make_layer` function is just there to create a series of `n_layers` blocks. The first one is going from `ch_in` to `ch_out` with the indicated `stride` and all the others are blocks of stride 1 with `ch_out` to `ch_out` tensors. Once the blocks are defined, our model is purely sequential, which is why we define it as a subclass of `nn.Sequential`. (Ignore the `expansion` parameter for now; we'll discuss it in the next section. For now, it'll be `1`, so it doesn't do anything.)\n",
        "\n",
        "The various versions of the models (ResNet-18, -34, -50, etc.) just change the number of blocks in each of those groups. This is the definition of a ResNet-18:"
      ]
    },
    {
      "cell_type": "code",
      "metadata": {
        "id": "nKmbzI0d6cPM"
      },
      "source": [
        "rn = ResNet(dls.c, [2,2,2,2])"
      ],
      "execution_count": 23,
      "outputs": []
    },
    {
      "cell_type": "markdown",
      "metadata": {
        "id": "lV0CcOdC6cPM"
      },
      "source": [
        "Let's train it for a little bit and see how it fares compared to the previous model:"
      ]
    },
    {
      "cell_type": "code",
      "metadata": {
        "id": "1VDsJBT36cPM",
        "colab": {
          "base_uri": "https://localhost:8080/",
          "height": 194
        },
        "outputId": "4c8c26b4-739d-473d-da1d-18fb667d9ebf"
      },
      "source": [
        "learn = get_learner(rn)\n",
        "learn.fit_one_cycle(5, 3e-3)"
      ],
      "execution_count": 24,
      "outputs": [
        {
          "output_type": "display_data",
          "data": {
            "text/html": [
              "<table border=\"1\" class=\"dataframe\">\n",
              "  <thead>\n",
              "    <tr style=\"text-align: left;\">\n",
              "      <th>epoch</th>\n",
              "      <th>train_loss</th>\n",
              "      <th>valid_loss</th>\n",
              "      <th>accuracy</th>\n",
              "      <th>time</th>\n",
              "    </tr>\n",
              "  </thead>\n",
              "  <tbody>\n",
              "    <tr>\n",
              "      <td>0</td>\n",
              "      <td>1.653014</td>\n",
              "      <td>2.233608</td>\n",
              "      <td>0.363822</td>\n",
              "      <td>00:25</td>\n",
              "    </tr>\n",
              "    <tr>\n",
              "      <td>1</td>\n",
              "      <td>1.311439</td>\n",
              "      <td>1.521459</td>\n",
              "      <td>0.524331</td>\n",
              "      <td>00:25</td>\n",
              "    </tr>\n",
              "    <tr>\n",
              "      <td>2</td>\n",
              "      <td>1.094286</td>\n",
              "      <td>1.110553</td>\n",
              "      <td>0.643312</td>\n",
              "      <td>00:25</td>\n",
              "    </tr>\n",
              "    <tr>\n",
              "      <td>3</td>\n",
              "      <td>0.908892</td>\n",
              "      <td>0.918888</td>\n",
              "      <td>0.719490</td>\n",
              "      <td>00:25</td>\n",
              "    </tr>\n",
              "    <tr>\n",
              "      <td>4</td>\n",
              "      <td>0.784196</td>\n",
              "      <td>0.798251</td>\n",
              "      <td>0.745732</td>\n",
              "      <td>00:25</td>\n",
              "    </tr>\n",
              "  </tbody>\n",
              "</table>"
            ],
            "text/plain": [
              "<IPython.core.display.HTML object>"
            ]
          },
          "metadata": {
            "tags": []
          }
        }
      ]
    },
    {
      "cell_type": "markdown",
      "metadata": {
        "id": "wZcUacxx6cPM"
      },
      "source": [
        "Even though we have more channels (and our model is therefore even more accurate), our training is just as fast as before, thanks to our optimized stem.\n",
        "\n",
        "To make our model deeper without taking too much compute or memory, we can use another kind of layer introduced by the ResNet paper for ResNets with a depth of 50 or more: the bottleneck layer. "
      ]
    },
    {
      "cell_type": "markdown",
      "metadata": {
        "id": "u1puKV6h6cPM"
      },
      "source": [
        "### Bottleneck Layers"
      ]
    },
    {
      "cell_type": "markdown",
      "metadata": {
        "id": "Wi4BTFqN6cPM"
      },
      "source": [
        "Instead of stacking two convolutions with a kernel size of 3, bottleneck layers use three different convolutions: two 1×1 (at the beginning and the end) and one 3×3, as shown on the right in <<resnet_compare>>."
      ]
    },
    {
      "cell_type": "markdown",
      "metadata": {
        "id": "n_kXgtVC6cPM"
      },
      "source": [
        "<img alt=\"Comparison of regular and bottleneck ResNet blocks\" width=\"550\" caption=\"Comparison of regular and bottleneck ResNet blocks (courtesy of Kaiming He et al.)\" id=\"resnet_compare\" src=\"https://github.com/fastai/fastbook/blob/master/images/att_00045.png?raw=1\">"
      ]
    },
    {
      "cell_type": "markdown",
      "metadata": {
        "id": "0ZHZvF166cPM"
      },
      "source": [
        "Why is that useful? 1×1 convolutions are much faster, so even if this seems to be a more complex design, this block executes faster than the first ResNet block we saw. This then lets us use more filters: as we see in the illustration, the number of filters in and out is 4 times higher (256 instead of 64) diminish then restore the number of channels (hence the name bottleneck). The overall impact is that we can use more filters in the same amount of time.\n",
        "\n",
        "Let's try replacing our `ResBlock` with this bottleneck design:"
      ]
    },
    {
      "cell_type": "code",
      "metadata": {
        "id": "9FWoYMGB6cPN"
      },
      "source": [
        "def _conv_block(ni,nf,stride):\n",
        "    return nn.Sequential(\n",
        "        ConvLayer(ni, nf//4, 1),\n",
        "        ConvLayer(nf//4, nf//4, stride=stride), \n",
        "        ConvLayer(nf//4, nf, 1, act_cls=None, norm_type=NormType.BatchZero))"
      ],
      "execution_count": 25,
      "outputs": []
    },
    {
      "cell_type": "markdown",
      "metadata": {
        "id": "hiOlxjMN6cPN"
      },
      "source": [
        "We'll use this to create a ResNet-50 with group sizes of `(3,4,6,3)`. We now need to pass `4` in to the `expansion` parameter of `ResNet`, since we need to start with four times less channels and we'll end with four times more channels.\n",
        "\n",
        "Deeper networks like this don't generally show improvements when training for only 5 epochs, so we'll bump it up to 20 epochs this time to make the most of our bigger model. And to really get great results, let's use bigger images too:"
      ]
    },
    {
      "cell_type": "code",
      "metadata": {
        "id": "Bw2rRYbk6cPN",
        "colab": {
          "base_uri": "https://localhost:8080/",
          "height": 17
        },
        "outputId": "3bb97d51-b858-43db-bf41-72ba5283f5af"
      },
      "source": [
        "dls = get_data(URLs.IMAGENETTE_320, presize=320, resize=224)"
      ],
      "execution_count": 26,
      "outputs": [
        {
          "output_type": "display_data",
          "data": {
            "text/html": [
              ""
            ],
            "text/plain": [
              "<IPython.core.display.HTML object>"
            ]
          },
          "metadata": {
            "tags": []
          }
        }
      ]
    },
    {
      "cell_type": "markdown",
      "metadata": {
        "id": "3uWMZL0h6cPN"
      },
      "source": [
        "We don't have to do anything to account for the larger 224-pixel images; thanks to our fully convolutional network, it just works. This is also why we were able to do *progressive resizing* earlier in the book—the models we used were fully convolutional, so we were even able to fine-tune models trained with different sizes. We can now train our model and see the effects:"
      ]
    },
    {
      "cell_type": "code",
      "metadata": {
        "id": "1Pqi_XKO6cPN"
      },
      "source": [
        "rn = ResNet(dls.c, [3,4,6,3], 4)"
      ],
      "execution_count": 27,
      "outputs": []
    },
    {
      "cell_type": "code",
      "metadata": {
        "id": "P06dNH6y6cPN",
        "colab": {
          "base_uri": "https://localhost:8080/",
          "height": 634
        },
        "outputId": "98cd2562-464c-4a25-b47e-7e708cafcfb6"
      },
      "source": [
        "learn = get_learner(rn)\n",
        "learn.fit_one_cycle(20, 3e-3)"
      ],
      "execution_count": 28,
      "outputs": [
        {
          "output_type": "display_data",
          "data": {
            "text/html": [
              "<table border=\"1\" class=\"dataframe\">\n",
              "  <thead>\n",
              "    <tr style=\"text-align: left;\">\n",
              "      <th>epoch</th>\n",
              "      <th>train_loss</th>\n",
              "      <th>valid_loss</th>\n",
              "      <th>accuracy</th>\n",
              "      <th>time</th>\n",
              "    </tr>\n",
              "  </thead>\n",
              "  <tbody>\n",
              "    <tr>\n",
              "      <td>0</td>\n",
              "      <td>1.606401</td>\n",
              "      <td>1.703634</td>\n",
              "      <td>0.459108</td>\n",
              "      <td>01:08</td>\n",
              "    </tr>\n",
              "    <tr>\n",
              "      <td>1</td>\n",
              "      <td>1.388046</td>\n",
              "      <td>2.371511</td>\n",
              "      <td>0.396178</td>\n",
              "      <td>01:10</td>\n",
              "    </tr>\n",
              "    <tr>\n",
              "      <td>2</td>\n",
              "      <td>1.276085</td>\n",
              "      <td>1.434557</td>\n",
              "      <td>0.529682</td>\n",
              "      <td>01:11</td>\n",
              "    </tr>\n",
              "    <tr>\n",
              "      <td>3</td>\n",
              "      <td>1.185239</td>\n",
              "      <td>3.319996</td>\n",
              "      <td>0.421911</td>\n",
              "      <td>01:11</td>\n",
              "    </tr>\n",
              "    <tr>\n",
              "      <td>4</td>\n",
              "      <td>1.077917</td>\n",
              "      <td>1.659996</td>\n",
              "      <td>0.581401</td>\n",
              "      <td>01:11</td>\n",
              "    </tr>\n",
              "    <tr>\n",
              "      <td>5</td>\n",
              "      <td>0.966622</td>\n",
              "      <td>1.089587</td>\n",
              "      <td>0.656306</td>\n",
              "      <td>01:12</td>\n",
              "    </tr>\n",
              "    <tr>\n",
              "      <td>6</td>\n",
              "      <td>0.874641</td>\n",
              "      <td>1.105562</td>\n",
              "      <td>0.660127</td>\n",
              "      <td>01:12</td>\n",
              "    </tr>\n",
              "    <tr>\n",
              "      <td>7</td>\n",
              "      <td>0.790566</td>\n",
              "      <td>0.901672</td>\n",
              "      <td>0.728153</td>\n",
              "      <td>01:12</td>\n",
              "    </tr>\n",
              "    <tr>\n",
              "      <td>8</td>\n",
              "      <td>0.718566</td>\n",
              "      <td>2.826955</td>\n",
              "      <td>0.432611</td>\n",
              "      <td>01:12</td>\n",
              "    </tr>\n",
              "    <tr>\n",
              "      <td>9</td>\n",
              "      <td>0.672101</td>\n",
              "      <td>1.315004</td>\n",
              "      <td>0.656306</td>\n",
              "      <td>01:12</td>\n",
              "    </tr>\n",
              "    <tr>\n",
              "      <td>10</td>\n",
              "      <td>0.605216</td>\n",
              "      <td>1.143291</td>\n",
              "      <td>0.705478</td>\n",
              "      <td>01:12</td>\n",
              "    </tr>\n",
              "    <tr>\n",
              "      <td>11</td>\n",
              "      <td>0.559209</td>\n",
              "      <td>0.736694</td>\n",
              "      <td>0.781911</td>\n",
              "      <td>01:12</td>\n",
              "    </tr>\n",
              "    <tr>\n",
              "      <td>12</td>\n",
              "      <td>0.497443</td>\n",
              "      <td>0.704707</td>\n",
              "      <td>0.791083</td>\n",
              "      <td>01:12</td>\n",
              "    </tr>\n",
              "    <tr>\n",
              "      <td>13</td>\n",
              "      <td>0.456217</td>\n",
              "      <td>0.888496</td>\n",
              "      <td>0.743439</td>\n",
              "      <td>01:12</td>\n",
              "    </tr>\n",
              "    <tr>\n",
              "      <td>14</td>\n",
              "      <td>0.411742</td>\n",
              "      <td>0.539321</td>\n",
              "      <td>0.833121</td>\n",
              "      <td>01:12</td>\n",
              "    </tr>\n",
              "    <tr>\n",
              "      <td>15</td>\n",
              "      <td>0.365617</td>\n",
              "      <td>0.540855</td>\n",
              "      <td>0.842293</td>\n",
              "      <td>01:11</td>\n",
              "    </tr>\n",
              "    <tr>\n",
              "      <td>16</td>\n",
              "      <td>0.314050</td>\n",
              "      <td>0.528517</td>\n",
              "      <td>0.845605</td>\n",
              "      <td>01:11</td>\n",
              "    </tr>\n",
              "    <tr>\n",
              "      <td>17</td>\n",
              "      <td>0.284299</td>\n",
              "      <td>0.422632</td>\n",
              "      <td>0.870064</td>\n",
              "      <td>01:12</td>\n",
              "    </tr>\n",
              "    <tr>\n",
              "      <td>18</td>\n",
              "      <td>0.270229</td>\n",
              "      <td>0.420902</td>\n",
              "      <td>0.873631</td>\n",
              "      <td>01:11</td>\n",
              "    </tr>\n",
              "    <tr>\n",
              "      <td>19</td>\n",
              "      <td>0.263497</td>\n",
              "      <td>0.425439</td>\n",
              "      <td>0.872357</td>\n",
              "      <td>01:11</td>\n",
              "    </tr>\n",
              "  </tbody>\n",
              "</table>"
            ],
            "text/plain": [
              "<IPython.core.display.HTML object>"
            ]
          },
          "metadata": {
            "tags": []
          }
        }
      ]
    },
    {
      "cell_type": "markdown",
      "metadata": {
        "id": "39evhwAQ6cPN"
      },
      "source": [
        "We're getting a great result now! Try adding Mixup, and then training this for a hundred epochs while you go get lunch. You'll have yourself a very accurate image classifier, trained from scratch.\n",
        "\n",
        "The bottleneck design we've shown here is typically only used in ResNet-50, -101, and -152 models. ResNet-18 and -34 models usually use the non-bottleneck design seen in the previous section. However, we've noticed that the bottleneck layer generally works better even for the shallower networks. This just goes to show that the little details in papers tend to stick around for years, even if they're actually not quite the best design! Questioning assumptions and \"stuff everyone knows\" is always a good idea, because this is still a new field, and there are lots of details that aren't always done well."
      ]
    },
    {
      "cell_type": "markdown",
      "metadata": {
        "id": "h_dodHar6cPN"
      },
      "source": [
        "## Conclusion"
      ]
    },
    {
      "cell_type": "markdown",
      "metadata": {
        "id": "uI39an6w6cPN"
      },
      "source": [
        "You have now seen how the models we have been using for computer vision since the first chapter are built, using skip connections to allow deeper models to be trained. Even if there has been a lot of research into better architectures, they all use one version or another of this trick, to make a direct path from the input to the end of the network. When using transfer learning, the ResNet is the pretrained model. In the next chapter, we will look at the final details of how the models we actually used were built from it."
      ]
    },
    {
      "cell_type": "markdown",
      "metadata": {
        "id": "wStljoTt6cPN"
      },
      "source": [
        "## Questionnaire"
      ]
    },
    {
      "cell_type": "markdown",
      "metadata": {
        "id": "yi3biRd46cPN"
      },
      "source": [
        "1. How did we get to a single vector of activations in the CNNs used for MNIST in previous chapters? Why isn't that suitable for Imagenette?\n",
        "1. What do we do for Imagenette instead?\n",
        "1. What is \"adaptive pooling\"?\n",
        "1. What is \"average pooling\"?\n",
        "1. Why do we need `Flatten` after an adaptive average pooling layer?\n",
        "1. What is a \"skip connection\"?\n",
        "1. Why do skip connections allow us to train deeper models?\n",
        "1. What does <<resnet_depth>> show? How did that lead to the idea of skip connections?\n",
        "1. What is \"identity mapping\"?\n",
        "1. What is the basic equation for a ResNet block (ignoring batchnorm and ReLU layers)?\n",
        "1. What do ResNets have to do with residuals?\n",
        "1. How do we deal with the skip connection when there is a stride-2 convolution? How about when the number of filters changes?\n",
        "1. How can we express a 1×1 convolution in terms of a vector dot product?\n",
        "1. Create a `1x1 convolution` with `F.conv2d` or `nn.Conv2d` and apply it to an image. What happens to the `shape` of the image?\n",
        "1. What does the `noop` function return?\n",
        "1. Explain what is shown in <<resnet_surface>>.\n",
        "1. When is top-5 accuracy a better metric than top-1 accuracy?\n",
        "1. What is the \"stem\" of a CNN?\n",
        "1. Why do we use plain convolutions in the CNN stem, instead of ResNet blocks?\n",
        "1. How does a bottleneck block differ from a plain ResNet block?\n",
        "1. Why is a bottleneck block faster?\n",
        "1. How do fully convolutional nets (and nets with adaptive pooling in general) allow for progressive resizing?"
      ]
    },
    {
      "cell_type": "markdown",
      "metadata": {
        "id": "14q4XEWO6cPN"
      },
      "source": [
        "### Further Research"
      ]
    },
    {
      "cell_type": "markdown",
      "metadata": {
        "id": "cKJ5Zv7O6cPN"
      },
      "source": [
        "1. Try creating a fully convolutional net with adaptive average pooling for MNIST (note that you'll need fewer stride-2 layers). How does it compare to a network without such a pooling layer?\n",
        "1. In <<chapter_foundations>> we introduce *Einstein summation notation*. Skip ahead to see how this works, and then write an implementation of the 1×1 convolution operation using `torch.einsum`. Compare it to the same operation using `torch.conv2d`.\n",
        "1. Write a \"top-5 accuracy\" function using plain PyTorch or plain Python.\n",
        "1. Train a model on Imagenette for more epochs, with and without label smoothing. Take a look at the Imagenette leaderboards and see how close you can get to the best results shown. Read the linked pages describing the leading approaches."
      ]
    },
    {
      "cell_type": "code",
      "metadata": {
        "id": "td71fuHW6cPO",
        "colab": {
          "base_uri": "https://localhost:8080/"
        },
        "outputId": "45b161de-ce52-42df-dffd-1182c2bef46d"
      },
      "source": [
        "!pwd"
      ],
      "execution_count": 29,
      "outputs": [
        {
          "output_type": "stream",
          "text": [
            "/content\n"
          ],
          "name": "stdout"
        }
      ]
    },
    {
      "cell_type": "code",
      "metadata": {
        "id": "WeIPKZEbmbW9"
      },
      "source": [
        ""
      ],
      "execution_count": null,
      "outputs": []
    }
  ]
}
{
  "cells": [
    {
      "cell_type": "markdown",
      "metadata": {
        "id": "view-in-github",
        "colab_type": "text"
      },
      "source": [
        "<a href=\"https://colab.research.google.com/github/JennEYoon/fastai-deep-learning/blob/main/fastbook/17_copy_foundations.ipynb\" target=\"_parent\"><img src=\"https://colab.research.google.com/assets/colab-badge.svg\" alt=\"Open In Colab\"/></a>"
      ]
    },
    {
      "cell_type": "code",
      "execution_count": 1,
      "metadata": {
        "id": "Ki3HhJQidwW4",
        "outputId": "e06249e2-fdc5-4c29-afac-2aec675e9c97",
        "colab": {
          "base_uri": "https://localhost:8080/",
          "height": 0
        }
      },
      "outputs": [
        {
          "output_type": "stream",
          "name": "stdout",
          "text": [
            "\u001b[2K     \u001b[90m━━━━━━━━━━━━━━━━━━━━━━━━━━━━━━━━━━━━━━━\u001b[0m \u001b[32m719.8/719.8 kB\u001b[0m \u001b[31m6.7 MB/s\u001b[0m eta \u001b[36m0:00:00\u001b[0m\n",
            "\u001b[2K     \u001b[90m━━━━━━━━━━━━━━━━━━━━━━━━━━━━━━━━━━━━━━━━\u001b[0m \u001b[32m7.6/7.6 MB\u001b[0m \u001b[31m18.4 MB/s\u001b[0m eta \u001b[36m0:00:00\u001b[0m\n",
            "\u001b[2K     \u001b[90m━━━━━━━━━━━━━━━━━━━━━━━━━━━━━━━━━━━━━━\u001b[0m \u001b[32m519.6/519.6 kB\u001b[0m \u001b[31m25.6 MB/s\u001b[0m eta \u001b[36m0:00:00\u001b[0m\n",
            "\u001b[2K     \u001b[90m━━━━━━━━━━━━━━━━━━━━━━━━━━━━━━━━━━━━━━━━\u001b[0m \u001b[32m1.3/1.3 MB\u001b[0m \u001b[31m24.2 MB/s\u001b[0m eta \u001b[36m0:00:00\u001b[0m\n",
            "\u001b[2K     \u001b[90m━━━━━━━━━━━━━━━━━━━━━━━━━━━━━━━━━━━━━━\u001b[0m \u001b[32m115.3/115.3 kB\u001b[0m \u001b[31m13.1 MB/s\u001b[0m eta \u001b[36m0:00:00\u001b[0m\n",
            "\u001b[2K     \u001b[90m━━━━━━━━━━━━━━━━━━━━━━━━━━━━━━━━━━━━━━━\u001b[0m \u001b[32m194.1/194.1 kB\u001b[0m \u001b[31m6.4 MB/s\u001b[0m eta \u001b[36m0:00:00\u001b[0m\n",
            "\u001b[2K     \u001b[90m━━━━━━━━━━━━━━━━━━━━━━━━━━━━━━━━━━━━━━\u001b[0m \u001b[32m134.8/134.8 kB\u001b[0m \u001b[31m14.5 MB/s\u001b[0m eta \u001b[36m0:00:00\u001b[0m\n",
            "\u001b[2K     \u001b[90m━━━━━━━━━━━━━━━━━━━━━━━━━━━━━━━━━━━━━━\u001b[0m \u001b[32m294.8/294.8 kB\u001b[0m \u001b[31m27.5 MB/s\u001b[0m eta \u001b[36m0:00:00\u001b[0m\n",
            "\u001b[2K     \u001b[90m━━━━━━━━━━━━━━━━━━━━━━━━━━━━━━━━━━━━━━━━\u001b[0m \u001b[32m7.8/7.8 MB\u001b[0m \u001b[31m18.2 MB/s\u001b[0m eta \u001b[36m0:00:00\u001b[0m\n",
            "\u001b[2K     \u001b[90m━━━━━━━━━━━━━━━━━━━━━━━━━━━━━━━━━━━━━━━━\u001b[0m \u001b[32m1.3/1.3 MB\u001b[0m \u001b[31m38.6 MB/s\u001b[0m eta \u001b[36m0:00:00\u001b[0m\n",
            "\u001b[2K     \u001b[90m━━━━━━━━━━━━━━━━━━━━━━━━━━━━━━━━━━━━━━━━\u001b[0m \u001b[32m1.6/1.6 MB\u001b[0m \u001b[31m35.9 MB/s\u001b[0m eta \u001b[36m0:00:00\u001b[0m\n",
            "\u001b[?25hMounted at /content/gdrive\n"
          ]
        }
      ],
      "source": [
        "#hide\n",
        "! [ -e /content ] && pip install -Uqq fastbook\n",
        "import fastbook\n",
        "fastbook.setup_book()"
      ]
    },
    {
      "cell_type": "raw",
      "metadata": {
        "id": "t1t_ia3rdwW5"
      },
      "source": [
        "[[chapter_foundations]]"
      ]
    },
    {
      "cell_type": "markdown",
      "metadata": {
        "id": "-mo9WIuKdwW5"
      },
      "source": [
        "# A Neural Net from the Foundations"
      ]
    },
    {
      "cell_type": "markdown",
      "metadata": {
        "id": "JIgX6FdGdwW6"
      },
      "source": [
        "This chapter begins a journey where we will dig deep into the internals of the models we used in the previous chapters. We will be covering many of the same things we've seen before, but this time around we'll be looking much more closely at the implementation details, and much less closely at the practical issues of how and why things are as they are.\n",
        "\n",
        "We will build everything from scratch, only using basic indexing into a tensor. We'll write a neural net from the ground up, then implement backpropagation manually, so we know exactly what's happening in PyTorch when we call `loss.backward`. We'll also see how to extend PyTorch with custom *autograd* functions that allow us to specify our own forward and backward computations."
      ]
    },
    {
      "cell_type": "markdown",
      "metadata": {
        "id": "Ps39PUYudwW6"
      },
      "source": [
        "## Building a Neural Net Layer from Scratch"
      ]
    },
    {
      "cell_type": "markdown",
      "metadata": {
        "id": "yYssdcnodwW6"
      },
      "source": [
        "Let's start by refreshing our understanding of how matrix multiplication is used in a basic neural network. Since we're building everything up from scratch, we'll use nothing but plain Python initially (except for indexing into PyTorch tensors), and then replace the plain Python with PyTorch functionality once we've seen how to create it."
      ]
    },
    {
      "cell_type": "markdown",
      "metadata": {
        "id": "g2Ms_zjQdwW6"
      },
      "source": [
        "### Modeling a Neuron"
      ]
    },
    {
      "cell_type": "markdown",
      "metadata": {
        "id": "LWg7CdpfdwW6"
      },
      "source": [
        "A neuron receives a given number of inputs and has an internal weight for each of them. It sums those weighted inputs to produce an output and adds an inner bias. In math, this can be written as:\n",
        "\n",
        "$$ out = \\sum_{i=1}^{n} x_{i} w_{i} + b$$\n",
        "\n",
        "if we name our inputs $(x_{1},\\dots,x_{n})$, our weights $(w_{1},\\dots,w_{n})$, and our bias $b$. In code this translates into:\n",
        "\n",
        "```python\n",
        "output = sum([x*w for x,w in zip(inputs,weights)]) + bias\n",
        "```\n",
        "\n",
        "This output is then fed into a nonlinear function called an *activation function* before being sent to another neuron. In deep learning the most common of these is the *rectified Linear unit*, or *ReLU*, which, as we've seen, is a fancy way of saying:\n",
        "```python\n",
        "def relu(x): return x if x >= 0 else 0\n",
        "```"
      ]
    },
    {
      "cell_type": "markdown",
      "metadata": {
        "id": "gmXyp5OvdwW7"
      },
      "source": [
        "A deep learning model is then built by stacking a lot of those neurons in successive layers. We create a first layer with a certain number of neurons (known as *hidden size*) and link all the inputs to each of those neurons. Such a layer is often called a *fully connected layer* or a *dense layer* (for densely connected), or a *linear layer*.\n",
        "\n",
        "It requires to compute, for each `input` in our batch and each neuron with a give `weight`, the dot product:\n",
        "\n",
        "```python\n",
        "sum([x*w for x,w in zip(input,weight)])\n",
        "```\n",
        "\n",
        "If you have done a little bit of linear algebra, you may remember that having a lot of those dot products happens when you do a *matrix multiplication*. More precisely, if our inputs are in a matrix `x` with a size of `batch_size` by `n_inputs`, and if we have grouped the weights of our neurons in a matrix `w` of size `n_neurons` by `n_inputs` (each neuron must have the same number of weights as it has inputs) and all the biases in a vector `b` of size `n_neurons`, then the output of this fully connected layer is:\n",
        "\n",
        "```python\n",
        "y = x @ w.t() + b\n",
        "```\n",
        "\n",
        "where `@` represents the matrix product and `w.t()` is the transpose matrix of `w`. The output `y` is then of size `batch_size` by `n_neurons`, and in position `(i,j)` we have (for the mathy folks out there):\n",
        "\n",
        "$$y_{i,j} = \\sum_{k=1}^{n} x_{i,k} w_{k,j} + b_{j}$$\n",
        "\n",
        "Or in code:\n",
        "\n",
        "```python\n",
        "y[i,j] = sum([a * b for a,b in zip(x[i,:],w[j,:])]) + b[j]\n",
        "```\n",
        "\n",
        "The transpose is necessary because in the mathematical definition of the matrix product `m @ n`, the coefficient `(i,j)` is:\n",
        "\n",
        "```python\n",
        "sum([a * b for a,b in zip(m[i,:],n[:,j])])\n",
        "```\n",
        "\n",
        "So the very basic operation we need is a matrix multiplication, as it's what is hidden in the core of a neural net."
      ]
    },
    {
      "cell_type": "markdown",
      "metadata": {
        "id": "_TZRlip7dwW7"
      },
      "source": [
        "### Matrix Multiplication from Scratch"
      ]
    },
    {
      "cell_type": "markdown",
      "metadata": {
        "id": "feNAheHgdwW8"
      },
      "source": [
        "Let's write a function that computes the matrix product of two tensors, before we allow ourselves to use the PyTorch version of it. We will only use the indexing in PyTorch tensors:"
      ]
    },
    {
      "cell_type": "code",
      "execution_count": 2,
      "metadata": {
        "id": "aZ_1zYkpdwW8"
      },
      "outputs": [],
      "source": [
        "import torch\n",
        "from torch import tensor"
      ]
    },
    {
      "cell_type": "markdown",
      "metadata": {
        "id": "u2FH-eFgdwW8"
      },
      "source": [
        "We'll need three nested `for` loops: one for the row indices, one for the column indices, and one for the inner sum. `ac` and `ar` stand for number of columns of `a` and number of rows of `a`, respectively (the same convention is followed for `b`), and we make sure calculating the matrix product is possible by checking that `a` has as many columns as `b` has rows:"
      ]
    },
    {
      "cell_type": "code",
      "execution_count": 3,
      "metadata": {
        "id": "aXhYWYnldwW8"
      },
      "outputs": [],
      "source": [
        "def matmul(a,b):\n",
        "    ar,ac = a.shape # n_rows * n_cols\n",
        "    br,bc = b.shape\n",
        "    assert ac==br\n",
        "    c = torch.zeros(ar, bc)\n",
        "    for i in range(ar):\n",
        "        for j in range(bc):\n",
        "            for k in range(ac): c[i,j] += a[i,k] * b[k,j]\n",
        "    return c"
      ]
    },
    {
      "cell_type": "markdown",
      "metadata": {
        "id": "Pe6tQ4v7dwW8"
      },
      "source": [
        "To test this out, we'll pretend (using random matrices) that we're working with a small batch of 5 MNIST images, flattened into 28×28 vectors, with linear model to turn them into 10 activations:"
      ]
    },
    {
      "cell_type": "code",
      "execution_count": 4,
      "metadata": {
        "id": "9hTpJuf_dwW8"
      },
      "outputs": [],
      "source": [
        "m1 = torch.randn(5,28*28)\n",
        "m2 = torch.randn(784,10)"
      ]
    },
    {
      "cell_type": "markdown",
      "metadata": {
        "id": "vW09dsvzdwW8"
      },
      "source": [
        "Let's time our function, using the Jupyter \"magic\" command `%time`:"
      ]
    },
    {
      "cell_type": "code",
      "execution_count": 5,
      "metadata": {
        "id": "3RSROWK9dwW9",
        "outputId": "79229381-d30f-4544-e1d0-5bb3ea450f12",
        "colab": {
          "base_uri": "https://localhost:8080/",
          "height": 0
        }
      },
      "outputs": [
        {
          "output_type": "stream",
          "name": "stdout",
          "text": [
            "CPU times: user 1.34 s, sys: 0 ns, total: 1.34 s\n",
            "Wall time: 1.76 s\n"
          ]
        }
      ],
      "source": [
        "%time t1=matmul(m1, m2)"
      ]
    },
    {
      "cell_type": "markdown",
      "metadata": {
        "id": "ChQ0omFNdwW9"
      },
      "source": [
        "And see how that compares to PyTorch's built-in `@`:"
      ]
    },
    {
      "cell_type": "code",
      "execution_count": 6,
      "metadata": {
        "id": "qi-UDb6jdwW9",
        "outputId": "5ac15e84-19e1-41bb-f5e3-c8747052bb4b",
        "colab": {
          "base_uri": "https://localhost:8080/",
          "height": 0
        }
      },
      "outputs": [
        {
          "output_type": "stream",
          "name": "stdout",
          "text": [
            "The slowest run took 142.81 times longer than the fastest. This could mean that an intermediate result is being cached.\n",
            "199 µs ± 464 µs per loop (mean ± std. dev. of 7 runs, 20 loops each)\n"
          ]
        }
      ],
      "source": [
        "%timeit -n 20 t2=m1@m2"
      ]
    },
    {
      "cell_type": "markdown",
      "metadata": {
        "id": "AtLNKXq6dwW9"
      },
      "source": [
        "As we can see, in Python three nested loops is a very bad idea! Python is a slow language, and this isn't going to be very efficient. We see here that PyTorch is around 100,000 times faster than Python—and that's before we even start using the GPU!\n",
        "\n",
        "Where does this difference come from? PyTorch didn't write its matrix multiplication in Python, but rather in C++ to make it fast. In general, whenever we do computations on tensors we will need to *vectorize* them so that we can take advantage of the speed of PyTorch, usually by using two techniques: elementwise arithmetic and broadcasting."
      ]
    },
    {
      "cell_type": "markdown",
      "metadata": {
        "id": "tTDz1xi1dwW9"
      },
      "source": [
        "### Elementwise Arithmetic"
      ]
    },
    {
      "cell_type": "markdown",
      "metadata": {
        "id": "eNDhhE2ydwW9"
      },
      "source": [
        "All the basic operators (`+`, `-`, `*`, `/`, `>`, `<`, `==`) can be applied elementwise. That means if we write `a+b` for two tensors `a` and `b` that have the same shape, we will get a tensor composed of the sums the elements of `a` and `b`:"
      ]
    },
    {
      "cell_type": "code",
      "execution_count": 7,
      "metadata": {
        "id": "z49vKl5ndwW9",
        "outputId": "a0cd52ba-6b28-48d8-e46b-aca3adb628c5",
        "colab": {
          "base_uri": "https://localhost:8080/",
          "height": 0
        }
      },
      "outputs": [
        {
          "output_type": "execute_result",
          "data": {
            "text/plain": [
              "tensor([12., 14.,  3.])"
            ]
          },
          "metadata": {},
          "execution_count": 7
        }
      ],
      "source": [
        "a = tensor([10., 6, -4])\n",
        "b = tensor([2., 8, 7])\n",
        "a + b"
      ]
    },
    {
      "cell_type": "markdown",
      "metadata": {
        "id": "ZFV0HlQ_dwW9"
      },
      "source": [
        "The Booleans operators will return an array of Booleans:"
      ]
    },
    {
      "cell_type": "code",
      "execution_count": 8,
      "metadata": {
        "id": "S-GJEzlndwW9",
        "outputId": "a2b8abe4-5f5b-4e24-86af-1abad391a849",
        "colab": {
          "base_uri": "https://localhost:8080/",
          "height": 0
        }
      },
      "outputs": [
        {
          "output_type": "execute_result",
          "data": {
            "text/plain": [
              "tensor([False,  True,  True])"
            ]
          },
          "metadata": {},
          "execution_count": 8
        }
      ],
      "source": [
        "a < b"
      ]
    },
    {
      "cell_type": "markdown",
      "metadata": {
        "id": "P2vb8aVqdwW-"
      },
      "source": [
        "If we want to know if every element of `a` is less than the corresponding element in `b`, or if two tensors are equal, we need to combine those elementwise operations with `torch.all`:"
      ]
    },
    {
      "cell_type": "code",
      "execution_count": 9,
      "metadata": {
        "id": "ZXSRb5JHdwW-",
        "outputId": "9cd1bdb6-8897-4d73-aa63-945d993565f4",
        "colab": {
          "base_uri": "https://localhost:8080/",
          "height": 0
        }
      },
      "outputs": [
        {
          "output_type": "execute_result",
          "data": {
            "text/plain": [
              "(tensor(False), tensor(False))"
            ]
          },
          "metadata": {},
          "execution_count": 9
        }
      ],
      "source": [
        "(a < b).all(), (a==b).all()"
      ]
    },
    {
      "cell_type": "markdown",
      "metadata": {
        "id": "P1pxrfJUdwW-"
      },
      "source": [
        "Reduction operations like `all()`, `sum()` and `mean()` return tensors with only one element, called rank-0 tensors. If you want to convert this to a plain Python Boolean or number, you need to call `.item()`:"
      ]
    },
    {
      "cell_type": "code",
      "execution_count": 10,
      "metadata": {
        "id": "UFi4_C59dwW-",
        "outputId": "045a3ee6-c8a2-4696-8eea-0fcaf77a76c0",
        "colab": {
          "base_uri": "https://localhost:8080/",
          "height": 0
        }
      },
      "outputs": [
        {
          "output_type": "execute_result",
          "data": {
            "text/plain": [
              "9.666666984558105"
            ]
          },
          "metadata": {},
          "execution_count": 10
        }
      ],
      "source": [
        "(a + b).mean().item()"
      ]
    },
    {
      "cell_type": "markdown",
      "metadata": {
        "id": "fGrTOlqUdwW-"
      },
      "source": [
        "The elementwise operations work on tensors of any rank, as long as they have the same shape:"
      ]
    },
    {
      "cell_type": "code",
      "execution_count": 11,
      "metadata": {
        "id": "H2rSDsYjdwW-",
        "outputId": "d2445ae5-2cf5-4c41-abb3-fe43fa14f235",
        "colab": {
          "base_uri": "https://localhost:8080/",
          "height": 0
        }
      },
      "outputs": [
        {
          "output_type": "execute_result",
          "data": {
            "text/plain": [
              "tensor([[ 1.,  4.,  9.],\n",
              "        [16., 25., 36.],\n",
              "        [49., 64., 81.]])"
            ]
          },
          "metadata": {},
          "execution_count": 11
        }
      ],
      "source": [
        "m = tensor([[1., 2, 3], [4,5,6], [7,8,9]])\n",
        "m*m"
      ]
    },
    {
      "cell_type": "markdown",
      "metadata": {
        "id": "occiS5pwdwW-"
      },
      "source": [
        "However you can't perform elementwise operations on tensors that don't have the same shape (unless they are broadcastable, as discussed in the next section):"
      ]
    },
    {
      "cell_type": "code",
      "execution_count": 18,
      "metadata": {
        "id": "alYumRNhdwW_",
        "outputId": "08db3571-a301-498f-8df5-861b6ba607a2",
        "colab": {
          "base_uri": "https://localhost:8080/",
          "height": 0
        }
      },
      "outputs": [
        {
          "output_type": "execute_result",
          "data": {
            "text/plain": [
              "tensor([[ 1.,  4.,  9.],\n",
              "        [16., 25., 36.],\n",
              "        [ 7.,  8.,  9.]])"
            ]
          },
          "metadata": {},
          "execution_count": 18
        }
      ],
      "source": [
        "n = tensor([[1., 2, 3], [4,5,6], [1, 1, 1]])\n",
        "m*n"
      ]
    },
    {
      "cell_type": "code",
      "source": [],
      "metadata": {
        "id": "2OyK8g4Nf4ZD"
      },
      "execution_count": 16,
      "outputs": []
    },
    {
      "cell_type": "code",
      "source": [],
      "metadata": {
        "id": "otOqsG-Of5UJ"
      },
      "execution_count": null,
      "outputs": []
    },
    {
      "cell_type": "code",
      "source": [],
      "metadata": {
        "id": "3hkrdkIPf5j5"
      },
      "execution_count": null,
      "outputs": []
    },
    {
      "cell_type": "code",
      "source": [],
      "metadata": {
        "id": "Ssv63b-sfAhD"
      },
      "execution_count": null,
      "outputs": []
    },
    {
      "cell_type": "markdown",
      "metadata": {
        "id": "iY4DQsDQdwW_"
      },
      "source": [
        "With elementwise arithmetic, we can remove one of our three nested loops: we can multiply the tensors that correspond to the `i`-th row of `a` and the `j`-th column of `b` before summing all the elements, which will speed things up because the inner loop will now be executed by PyTorch at C speed.\n",
        "\n",
        "To access one column or row, we can simply write `a[i,:]` or `b[:,j]`. The `:` means take everything in that dimension. We could restrict this and take only a slice of that particular dimension by passing a range, like `1:5`, instead of just `:`. In that case, we would take the elements in columns or rows 1 to 4 (the second number is noninclusive).\n",
        "\n",
        "One simplification is that we can always omit a trailing colon, so `a[i,:]` can be abbreviated to `a[i]`. With all of that in mind, we can write a new version of our matrix multiplication:"
      ]
    },
    {
      "cell_type": "code",
      "execution_count": 13,
      "metadata": {
        "id": "4YoYvcXxdwW_"
      },
      "outputs": [],
      "source": [
        "def matmul(a,b):\n",
        "    ar,ac = a.shape\n",
        "    br,bc = b.shape\n",
        "    assert ac==br\n",
        "    c = torch.zeros(ar, bc)\n",
        "    for i in range(ar):\n",
        "        for j in range(bc): c[i,j] = (a[i] * b[:,j]).sum()\n",
        "    return c"
      ]
    },
    {
      "cell_type": "code",
      "execution_count": 14,
      "metadata": {
        "id": "XEr9S9ccdwW_",
        "outputId": "d61c23eb-1e82-472e-e2fe-9dc481659afb",
        "colab": {
          "base_uri": "https://localhost:8080/",
          "height": 0
        }
      },
      "outputs": [
        {
          "output_type": "stream",
          "name": "stdout",
          "text": [
            "1.41 ms ± 173 µs per loop (mean ± std. dev. of 7 runs, 20 loops each)\n"
          ]
        }
      ],
      "source": [
        "%timeit -n 20 t3 = matmul(m1,m2)"
      ]
    },
    {
      "cell_type": "markdown",
      "metadata": {
        "id": "NYXyaF1zdwW_"
      },
      "source": [
        "We're already ~700 times faster, just by removing that inner `for` loop! And that's just the beginning—with broadcasting we can remove another loop and get an even more important speed up."
      ]
    },
    {
      "cell_type": "markdown",
      "metadata": {
        "id": "qtASNuMedwW_"
      },
      "source": [
        "### Broadcasting"
      ]
    },
    {
      "cell_type": "markdown",
      "metadata": {
        "id": "ECDQ9zWNdwW_"
      },
      "source": [
        "As we discussed in <<chapter_mnist_basics>>, broadcasting is a term introduced by the [NumPy library](https://docs.scipy.org/doc/) that describes how tensors of different ranks are treated during arithmetic operations. For instance, it's obvious there is no way to add a 3×3 matrix with a 4×5 matrix, but what if we want to add one scalar (which can be represented as a 1×1 tensor) with a matrix? Or a vector of size 3 with a 3×4 matrix? In both cases, we can find a way to make sense of this operation.\n",
        "\n",
        "Broadcasting gives specific rules to codify when shapes are compatible when trying to do an elementwise operation, and how the tensor of the smaller shape is expanded to match the tensor of the bigger shape. It's essential to master those rules if you want to be able to write code that executes quickly. In this section, we'll expand our previous treatment of broadcasting to understand these rules."
      ]
    },
    {
      "cell_type": "markdown",
      "metadata": {
        "id": "llrvf04adwW_"
      },
      "source": [
        "#### Broadcasting with a scalar"
      ]
    },
    {
      "cell_type": "markdown",
      "metadata": {
        "id": "6L5h7xFWdwW_"
      },
      "source": [
        "Broadcasting with a scalar is the easiest type of broadcasting. When we have a tensor `a` and a scalar, we just imagine a tensor of the same shape as `a` filled with that scalar and perform the operation:"
      ]
    },
    {
      "cell_type": "code",
      "execution_count": 20,
      "metadata": {
        "id": "bX7N3tqgdwW_",
        "outputId": "1afddda1-0157-4fb1-aa92-12d5411e6fa1",
        "colab": {
          "base_uri": "https://localhost:8080/",
          "height": 0
        }
      },
      "outputs": [
        {
          "output_type": "execute_result",
          "data": {
            "text/plain": [
              "tensor([ True,  True, False])"
            ]
          },
          "metadata": {},
          "execution_count": 20
        }
      ],
      "source": [
        "a = tensor([10., 6, -4])\n",
        "a > 0"
      ]
    },
    {
      "cell_type": "markdown",
      "metadata": {
        "id": "21jiIYgSdwXA"
      },
      "source": [
        "How are we able to do this comparison? `0` is being *broadcast* to have the same dimensions as `a`. Note that this is done without creating a tensor full of zeros in memory (that would be very inefficient).\n",
        "\n",
        "This is very useful if you want to normalize your dataset by subtracting the mean (a scalar) from the entire data set (a matrix) and dividing by the standard deviation (another scalar):"
      ]
    },
    {
      "cell_type": "code",
      "execution_count": 21,
      "metadata": {
        "id": "tnWa3TWCdwXA",
        "outputId": "f49886f1-809e-47b3-d237-deac502d436a",
        "colab": {
          "base_uri": "https://localhost:8080/",
          "height": 0
        }
      },
      "outputs": [
        {
          "output_type": "execute_result",
          "data": {
            "text/plain": [
              "tensor([[-1.4652, -1.0989, -0.7326],\n",
              "        [-0.3663,  0.0000,  0.3663],\n",
              "        [ 0.7326,  1.0989,  1.4652]])"
            ]
          },
          "metadata": {},
          "execution_count": 21
        }
      ],
      "source": [
        "m = tensor([[1., 2, 3], [4,5,6], [7,8,9]])\n",
        "(m - 5) / 2.73"
      ]
    },
    {
      "cell_type": "markdown",
      "metadata": {
        "id": "R0KUd3gGdwXA"
      },
      "source": [
        "What if have different means for each row of the matrix? in that case you will need to broadcast a vector to a matrix."
      ]
    },
    {
      "cell_type": "markdown",
      "metadata": {
        "id": "RUOj46VcdwXA"
      },
      "source": [
        "#### Broadcasting a vector to a matrix"
      ]
    },
    {
      "cell_type": "markdown",
      "metadata": {
        "id": "MtnQlMUNdwXA"
      },
      "source": [
        "We can broadcast a vector to a matrix as follows:"
      ]
    },
    {
      "cell_type": "code",
      "execution_count": 22,
      "metadata": {
        "id": "JcLG1x7edwXA",
        "outputId": "6ef4890c-fedb-4924-817f-bc8b64a83445",
        "colab": {
          "base_uri": "https://localhost:8080/",
          "height": 0
        }
      },
      "outputs": [
        {
          "output_type": "execute_result",
          "data": {
            "text/plain": [
              "(torch.Size([3, 3]), torch.Size([3]))"
            ]
          },
          "metadata": {},
          "execution_count": 22
        }
      ],
      "source": [
        "c = tensor([10.,20,30])\n",
        "m = tensor([[1., 2, 3], [4,5,6], [7,8,9]])\n",
        "m.shape,c.shape"
      ]
    },
    {
      "cell_type": "code",
      "execution_count": 23,
      "metadata": {
        "id": "hy6gk0V-dwXA",
        "outputId": "523a0bb6-32a8-4c94-b442-eb5060cec0fe",
        "colab": {
          "base_uri": "https://localhost:8080/",
          "height": 0
        }
      },
      "outputs": [
        {
          "output_type": "execute_result",
          "data": {
            "text/plain": [
              "tensor([[11., 22., 33.],\n",
              "        [14., 25., 36.],\n",
              "        [17., 28., 39.]])"
            ]
          },
          "metadata": {},
          "execution_count": 23
        }
      ],
      "source": [
        "m + c"
      ]
    },
    {
      "cell_type": "markdown",
      "metadata": {
        "id": "3W5YNHTpdwXA"
      },
      "source": [
        "Here the elements of `c` are expanded to make three rows that match, making the operation possible. Again, PyTorch doesn't actually create three copies of `c` in memory. This is done by the `expand_as` method behind the scenes:"
      ]
    },
    {
      "cell_type": "code",
      "execution_count": 24,
      "metadata": {
        "id": "qMxIUMQYdwXA",
        "outputId": "0c25c621-b89f-44e2-a4a7-68b775bdb7b8",
        "colab": {
          "base_uri": "https://localhost:8080/",
          "height": 0
        }
      },
      "outputs": [
        {
          "output_type": "execute_result",
          "data": {
            "text/plain": [
              "tensor([[10., 20., 30.],\n",
              "        [10., 20., 30.],\n",
              "        [10., 20., 30.]])"
            ]
          },
          "metadata": {},
          "execution_count": 24
        }
      ],
      "source": [
        "c.expand_as(m)"
      ]
    },
    {
      "cell_type": "markdown",
      "metadata": {
        "id": "FMMf6nrrdwXA"
      },
      "source": [
        "If we look at the corresponding tensor, we can ask for its `storage` property (which shows the actual contents of the memory used for the tensor) to check there is no useless data stored:"
      ]
    },
    {
      "cell_type": "code",
      "execution_count": 25,
      "metadata": {
        "id": "G324g93LdwXA",
        "outputId": "c6525547-0508-48cc-a9f8-1e9a055298b2",
        "colab": {
          "base_uri": "https://localhost:8080/",
          "height": 0
        }
      },
      "outputs": [
        {
          "output_type": "stream",
          "name": "stderr",
          "text": [
            "<ipython-input-25-b579dd4930e5>:2: UserWarning: TypedStorage is deprecated. It will be removed in the future and UntypedStorage will be the only storage class. This should only matter to you if you are using storages directly.  To access UntypedStorage directly, use tensor.untyped_storage() instead of tensor.storage()\n",
            "  t.storage()\n"
          ]
        },
        {
          "output_type": "execute_result",
          "data": {
            "text/plain": [
              " 10.0\n",
              " 20.0\n",
              " 30.0\n",
              "[torch.storage.TypedStorage(dtype=torch.float32, device=cpu) of size 3]"
            ]
          },
          "metadata": {},
          "execution_count": 25
        }
      ],
      "source": [
        "t = c.expand_as(m)\n",
        "t.storage()"
      ]
    },
    {
      "cell_type": "markdown",
      "metadata": {
        "id": "lskkd0ycdwXB"
      },
      "source": [
        "Even though the tensor officially has nine elements, only three scalars are stored in memory. This is possible thanks to the clever trick of giving that dimension a *stride* of 0 (which means that when PyTorch looks for the next row by adding the stride, it doesn't move):"
      ]
    },
    {
      "cell_type": "code",
      "execution_count": 26,
      "metadata": {
        "id": "P2Bv4jLxdwXB",
        "outputId": "f01d8c0e-89ef-44ff-f4b8-7e5df9ba7d99",
        "colab": {
          "base_uri": "https://localhost:8080/",
          "height": 0
        }
      },
      "outputs": [
        {
          "output_type": "execute_result",
          "data": {
            "text/plain": [
              "((0, 1), torch.Size([3, 3]))"
            ]
          },
          "metadata": {},
          "execution_count": 26
        }
      ],
      "source": [
        "t.stride(), t.shape"
      ]
    },
    {
      "cell_type": "markdown",
      "metadata": {
        "id": "C8DIJ8IudwXB"
      },
      "source": [
        "Since `m` is of size 3×3, there are two ways to do broadcasting. The fact it was done on the last dimension is a convention that comes from the rules of broadcasting and has nothing to do with the way we ordered our tensors. If instead we do this, we get the same result:"
      ]
    },
    {
      "cell_type": "code",
      "execution_count": 27,
      "metadata": {
        "id": "COjUrp-PdwXB",
        "outputId": "fef562f5-b597-4763-909a-c02d2ba4470f",
        "colab": {
          "base_uri": "https://localhost:8080/",
          "height": 0
        }
      },
      "outputs": [
        {
          "output_type": "execute_result",
          "data": {
            "text/plain": [
              "tensor([[11., 22., 33.],\n",
              "        [14., 25., 36.],\n",
              "        [17., 28., 39.]])"
            ]
          },
          "metadata": {},
          "execution_count": 27
        }
      ],
      "source": [
        "c + m"
      ]
    },
    {
      "cell_type": "markdown",
      "metadata": {
        "id": "npveSFU5dwXB"
      },
      "source": [
        "In fact, it's only possible to broadcast a vector of size `n` with a matrix of size `m` by `n`:"
      ]
    },
    {
      "cell_type": "code",
      "execution_count": 28,
      "metadata": {
        "id": "AGb5UIDydwXB",
        "outputId": "fbe09af0-2c39-4647-948b-0bb01ee1fc6e",
        "colab": {
          "base_uri": "https://localhost:8080/",
          "height": 0
        }
      },
      "outputs": [
        {
          "output_type": "execute_result",
          "data": {
            "text/plain": [
              "tensor([[11., 22., 33.],\n",
              "        [14., 25., 36.]])"
            ]
          },
          "metadata": {},
          "execution_count": 28
        }
      ],
      "source": [
        "c = tensor([10.,20,30])\n",
        "m = tensor([[1., 2, 3], [4,5,6]])\n",
        "c+m"
      ]
    },
    {
      "cell_type": "markdown",
      "metadata": {
        "id": "dFbncwOKdwXB"
      },
      "source": [
        "This won't work:"
      ]
    },
    {
      "cell_type": "code",
      "execution_count": 29,
      "metadata": {
        "id": "oLjoDpEQdwXB",
        "outputId": "3a4d2b72-0495-4bd3-fcc3-72c9116968e4",
        "colab": {
          "base_uri": "https://localhost:8080/",
          "height": 217
        }
      },
      "outputs": [
        {
          "output_type": "error",
          "ename": "RuntimeError",
          "evalue": "ignored",
          "traceback": [
            "\u001b[0;31m---------------------------------------------------------------------------\u001b[0m",
            "\u001b[0;31mRuntimeError\u001b[0m                              Traceback (most recent call last)",
            "\u001b[0;32m<ipython-input-29-64bbbad4d99c>\u001b[0m in \u001b[0;36m<cell line: 3>\u001b[0;34m()\u001b[0m\n\u001b[1;32m      1\u001b[0m \u001b[0mc\u001b[0m \u001b[0;34m=\u001b[0m \u001b[0mtensor\u001b[0m\u001b[0;34m(\u001b[0m\u001b[0;34m[\u001b[0m\u001b[0;36m10.\u001b[0m\u001b[0;34m,\u001b[0m\u001b[0;36m20\u001b[0m\u001b[0;34m]\u001b[0m\u001b[0;34m)\u001b[0m\u001b[0;34m\u001b[0m\u001b[0;34m\u001b[0m\u001b[0m\n\u001b[1;32m      2\u001b[0m \u001b[0mm\u001b[0m \u001b[0;34m=\u001b[0m \u001b[0mtensor\u001b[0m\u001b[0;34m(\u001b[0m\u001b[0;34m[\u001b[0m\u001b[0;34m[\u001b[0m\u001b[0;36m1.\u001b[0m\u001b[0;34m,\u001b[0m \u001b[0;36m2\u001b[0m\u001b[0;34m,\u001b[0m \u001b[0;36m3\u001b[0m\u001b[0;34m]\u001b[0m\u001b[0;34m,\u001b[0m \u001b[0;34m[\u001b[0m\u001b[0;36m4\u001b[0m\u001b[0;34m,\u001b[0m\u001b[0;36m5\u001b[0m\u001b[0;34m,\u001b[0m\u001b[0;36m6\u001b[0m\u001b[0;34m]\u001b[0m\u001b[0;34m]\u001b[0m\u001b[0;34m)\u001b[0m\u001b[0;34m\u001b[0m\u001b[0;34m\u001b[0m\u001b[0m\n\u001b[0;32m----> 3\u001b[0;31m \u001b[0mc\u001b[0m\u001b[0;34m+\u001b[0m\u001b[0mm\u001b[0m\u001b[0;34m\u001b[0m\u001b[0;34m\u001b[0m\u001b[0m\n\u001b[0m",
            "\u001b[0;31mRuntimeError\u001b[0m: The size of tensor a (2) must match the size of tensor b (3) at non-singleton dimension 1"
          ]
        }
      ],
      "source": [
        "c = tensor([10.,20])\n",
        "m = tensor([[1., 2, 3], [4,5,6]])\n",
        "c+m"
      ]
    },
    {
      "cell_type": "markdown",
      "metadata": {
        "id": "yJlR0wz0dwXB"
      },
      "source": [
        "If we want to broadcast in the other dimension, we have to change the shape of our vector to make it a 3×1 matrix. This is done with the `unsqueeze` method in PyTorch:"
      ]
    },
    {
      "cell_type": "code",
      "execution_count": 31,
      "metadata": {
        "id": "qK3cx-pXdwXB",
        "outputId": "cb314858-bd31-4236-d86d-3bdac0b3f2a0",
        "colab": {
          "base_uri": "https://localhost:8080/",
          "height": 0
        }
      },
      "outputs": [
        {
          "output_type": "execute_result",
          "data": {
            "text/plain": [
              "(torch.Size([3, 3]), torch.Size([3, 1]))"
            ]
          },
          "metadata": {},
          "execution_count": 31
        }
      ],
      "source": [
        "c = tensor([10.,20,30])\n",
        "m = tensor([[1., 2, 3], [4,5,6], [7,8,9]])\n",
        "c = c.unsqueeze(1)\n",
        "m.shape,c.shape"
      ]
    },
    {
      "cell_type": "markdown",
      "metadata": {
        "id": "6e5KsREHdwXB"
      },
      "source": [
        "This time, `c` is expanded on the column side:"
      ]
    },
    {
      "cell_type": "code",
      "execution_count": 32,
      "metadata": {
        "id": "OITszY9qdwXB",
        "outputId": "c2a30e24-82ec-4870-b2b3-7e8b6efc1c13",
        "colab": {
          "base_uri": "https://localhost:8080/",
          "height": 0
        }
      },
      "outputs": [
        {
          "output_type": "execute_result",
          "data": {
            "text/plain": [
              "tensor([[11., 12., 13.],\n",
              "        [24., 25., 26.],\n",
              "        [37., 38., 39.]])"
            ]
          },
          "metadata": {},
          "execution_count": 32
        }
      ],
      "source": [
        "c+m"
      ]
    },
    {
      "cell_type": "markdown",
      "metadata": {
        "id": "TX0fMkwydwXC"
      },
      "source": [
        "Like before, only three scalars are stored in memory:"
      ]
    },
    {
      "cell_type": "code",
      "execution_count": 33,
      "metadata": {
        "id": "rTJeY_qWdwXC",
        "outputId": "93131766-1642-4cc8-c5ae-194a0bd7018c",
        "colab": {
          "base_uri": "https://localhost:8080/",
          "height": 0
        }
      },
      "outputs": [
        {
          "output_type": "execute_result",
          "data": {
            "text/plain": [
              " 10.0\n",
              " 20.0\n",
              " 30.0\n",
              "[torch.storage.TypedStorage(dtype=torch.float32, device=cpu) of size 3]"
            ]
          },
          "metadata": {},
          "execution_count": 33
        }
      ],
      "source": [
        "t = c.expand_as(m)\n",
        "t.storage()"
      ]
    },
    {
      "cell_type": "markdown",
      "metadata": {
        "id": "phMKPNEkdwXC"
      },
      "source": [
        "And the expanded tensor has the right shape because the column dimension has a stride of 0:"
      ]
    },
    {
      "cell_type": "code",
      "execution_count": 34,
      "metadata": {
        "id": "oxRucyQydwXC",
        "outputId": "d318b649-4618-4eaa-e0eb-0644a6725cb4",
        "colab": {
          "base_uri": "https://localhost:8080/",
          "height": 0
        }
      },
      "outputs": [
        {
          "output_type": "execute_result",
          "data": {
            "text/plain": [
              "((1, 0), torch.Size([3, 3]))"
            ]
          },
          "metadata": {},
          "execution_count": 34
        }
      ],
      "source": [
        "t.stride(), t.shape"
      ]
    },
    {
      "cell_type": "markdown",
      "metadata": {
        "id": "je-uIYjadwXC"
      },
      "source": [
        "With broadcasting, by default if we need to add dimensions, they are added at the beginning. When we were broadcasting before, Pytorch was doing `c.unsqueeze(0)` behind the scenes:"
      ]
    },
    {
      "cell_type": "code",
      "execution_count": 35,
      "metadata": {
        "id": "7-qEhwctdwXC",
        "outputId": "ec0bda44-7807-41df-c3be-212d848b65b8",
        "colab": {
          "base_uri": "https://localhost:8080/",
          "height": 0
        }
      },
      "outputs": [
        {
          "output_type": "execute_result",
          "data": {
            "text/plain": [
              "(torch.Size([3]), torch.Size([1, 3]), torch.Size([3, 1]))"
            ]
          },
          "metadata": {},
          "execution_count": 35
        }
      ],
      "source": [
        "c = tensor([10.,20,30])\n",
        "c.shape, c.unsqueeze(0).shape,c.unsqueeze(1).shape"
      ]
    },
    {
      "cell_type": "markdown",
      "metadata": {
        "id": "nnflHB43dwXC"
      },
      "source": [
        "The `unsqueeze` command can be replaced by `None` indexing:"
      ]
    },
    {
      "cell_type": "code",
      "execution_count": 36,
      "metadata": {
        "id": "MB08psM8dwXC",
        "outputId": "c6e83284-5fbe-4b76-bfba-066e15032faa",
        "colab": {
          "base_uri": "https://localhost:8080/",
          "height": 0
        }
      },
      "outputs": [
        {
          "output_type": "execute_result",
          "data": {
            "text/plain": [
              "(torch.Size([3]), torch.Size([1, 3]), torch.Size([3, 1]))"
            ]
          },
          "metadata": {},
          "execution_count": 36
        }
      ],
      "source": [
        "c.shape, c[None,:].shape,c[:,None].shape"
      ]
    },
    {
      "cell_type": "markdown",
      "metadata": {
        "id": "KQr4H7L5dwXC"
      },
      "source": [
        "You can always omit trailing colons, and `...` means all preceding dimensions:"
      ]
    },
    {
      "cell_type": "code",
      "execution_count": 37,
      "metadata": {
        "id": "UrB1RxzydwXC",
        "outputId": "91d88f09-0c1a-4cdf-a5d9-8fc836943d31",
        "colab": {
          "base_uri": "https://localhost:8080/",
          "height": 0
        }
      },
      "outputs": [
        {
          "output_type": "execute_result",
          "data": {
            "text/plain": [
              "(torch.Size([1, 3]), torch.Size([3, 1]))"
            ]
          },
          "metadata": {},
          "execution_count": 37
        }
      ],
      "source": [
        "c[None].shape,c[...,None].shape"
      ]
    },
    {
      "cell_type": "markdown",
      "metadata": {
        "id": "jCA1OVpUdwXC"
      },
      "source": [
        "With this, we can remove another `for` loop in our matrix multiplication function. Now, instead of multiplying `a[i]` with `b[:,j]`, we can multiply `a[i]` with the whole matrix `b` using broadcasting, then sum the results:"
      ]
    },
    {
      "cell_type": "code",
      "execution_count": 38,
      "metadata": {
        "id": "-1s4jflydwXD"
      },
      "outputs": [],
      "source": [
        "def matmul(a,b):\n",
        "    ar,ac = a.shape\n",
        "    br,bc = b.shape\n",
        "    assert ac==br\n",
        "    c = torch.zeros(ar, bc)\n",
        "    for i in range(ar):\n",
        "#       c[i,j] = (a[i,:]          * b[:,j]).sum() # previous\n",
        "        c[i]   = (a[i  ].unsqueeze(-1) * b).sum(dim=0)\n",
        "    return c"
      ]
    },
    {
      "cell_type": "code",
      "execution_count": 39,
      "metadata": {
        "id": "LM-xoTPudwXD",
        "outputId": "c8b38875-2494-4d07-d527-48f6c31b5b4a",
        "colab": {
          "base_uri": "https://localhost:8080/",
          "height": 0
        }
      },
      "outputs": [
        {
          "output_type": "stream",
          "name": "stdout",
          "text": [
            "407 µs ± 88.5 µs per loop (mean ± std. dev. of 7 runs, 20 loops each)\n"
          ]
        }
      ],
      "source": [
        "%timeit -n 20 t4 = matmul(m1,m2)"
      ]
    },
    {
      "cell_type": "markdown",
      "metadata": {
        "id": "rxhCaXGDdwXD"
      },
      "source": [
        "We're now 3,700 times faster than our first implementation! Before we move on, let's discuss the rules of broadcasting in a little more detail."
      ]
    },
    {
      "cell_type": "markdown",
      "metadata": {
        "id": "r9gcJKO9dwXD"
      },
      "source": [
        "#### Broadcasting rules"
      ]
    },
    {
      "cell_type": "markdown",
      "metadata": {
        "id": "TtRdf7vhdwXD"
      },
      "source": [
        "When operating on two tensors, PyTorch compares their shapes elementwise. It starts with the *trailing dimensions* and works its way backward, adding 1 when it meets empty dimensions. Two dimensions are *compatible* when one of the following is true:\n",
        "\n",
        "- They are equal.\n",
        "- One of them is 1, in which case that dimension is broadcast to make it the same as the other.\n",
        "\n",
        "Arrays do not need to have the same number of dimensions. For example, if you have a 256×256×3 array of RGB values, and you want to scale each color in the image by a different value, you can multiply the image by a one-dimensional array with three values. Lining up the sizes of the trailing axes of these arrays according to the broadcast rules, shows that they are compatible:\n",
        "\n",
        "```\n",
        "Image  (3d tensor): 256 x 256 x 3\n",
        "Scale  (1d tensor):  (1)   (1)  3\n",
        "Result (3d tensor): 256 x 256 x 3\n",
        "```\n",
        "    \n",
        "However, a 2D tensor of size 256×256 isn't compatible with our image:\n",
        "\n",
        "```\n",
        "Image  (3d tensor): 256 x 256 x   3\n",
        "Scale  (2d tensor):  (1)  256 x 256\n",
        "Error\n",
        "```\n",
        "\n",
        "In our earlier examples we had with a 3×3 matrix and a vector of size 3, broadcasting was done on the rows:\n",
        "\n",
        "```\n",
        "Matrix (2d tensor):   3 x 3\n",
        "Vector (1d tensor): (1)   3\n",
        "Result (2d tensor):   3 x 3\n",
        "```\n",
        "\n",
        "As an exercise, try to determine what dimensions to add (and where) when you need to normalize a batch of images of size `64 x 3 x 256 x 256` with vectors of three elements (one for the mean and one for the standard deviation)."
      ]
    },
    {
      "cell_type": "markdown",
      "metadata": {
        "id": "CH_Yn9m5dwXD"
      },
      "source": [
        "Another useful way of simplifying tensor manipulations is the use of Einstein summations convention."
      ]
    },
    {
      "cell_type": "markdown",
      "metadata": {
        "id": "xJjKFBy8dwXD"
      },
      "source": [
        "### Einstein Summation"
      ]
    },
    {
      "cell_type": "markdown",
      "metadata": {
        "id": "89qyjSRldwXD"
      },
      "source": [
        "Before using the PyTorch operation `@` or `torch.matmul`, there is one last way we can implement matrix multiplication: Einstein summation (`einsum`). This is a compact representation for combining products and sums in a general way. We write an equation like this:\n",
        "\n",
        "```\n",
        "ik,kj -> ij\n",
        "```\n",
        "\n",
        "The lefthand side represents the operands dimensions, separated by commas. Here we have two tensors that each have two dimensions (`i,k` and `k,j`).  The righthand side represents the result dimensions, so here we have a tensor with two dimensions `i,j`.\n",
        "\n",
        "The rules of Einstein summation notation are as follows:\n",
        "\n",
        "1. Repeated indices on the left side are implicitly summed over if they are not on the right side.\n",
        "2. Each index can appear at most twice on the left side.\n",
        "3. The unrepeated indices on the left side must appear on the right side.\n",
        "\n",
        "So in our example, since `k` is repeated, we sum over that index. In the end the formula represents the matrix obtained when we put in `(i,j)` the sum of all the coefficients `(i,k)` in the first tensor multiplied by the coefficients `(k,j)` in the second tensor... which is the matrix product! Here is how we can code this in PyTorch:"
      ]
    },
    {
      "cell_type": "code",
      "execution_count": 40,
      "metadata": {
        "id": "XEJHEcSzdwXD"
      },
      "outputs": [],
      "source": [
        "def matmul(a,b): return torch.einsum('ik,kj->ij', a, b)"
      ]
    },
    {
      "cell_type": "markdown",
      "metadata": {
        "id": "QGm81J2LdwXD"
      },
      "source": [
        "Einstein summation is a very practical way of expressing operations involving indexing and sum of products. Note that you can have just one member on the lefthand side. For instance, this:\n",
        "\n",
        "```python\n",
        "torch.einsum('ij->ji', a)\n",
        "```\n",
        "\n",
        "returns the transpose of the matrix `a`. You can also have three or more members. This:\n",
        "\n",
        "```python\n",
        "torch.einsum('bi,ij,bj->b', a, b, c)\n",
        "```\n",
        "\n",
        "will return a vector of size `b` where the `k`-th coordinate is the sum of `a[k,i] b[i,j] c[k,j]`. This notation is particularly convenient when you have more dimensions because of batches. For example, if you have two batches of matrices and want to compute the matrix product per batch, you would could this:\n",
        "\n",
        "```python\n",
        "torch.einsum('bik,bkj->bij', a, b)\n",
        "```\n",
        "\n",
        "Let's go back to our new `matmul` implementation using `einsum` and look at its speed:"
      ]
    },
    {
      "cell_type": "code",
      "execution_count": 41,
      "metadata": {
        "id": "tAk-vLKMdwXD",
        "outputId": "7e3421d8-cbf7-464c-a784-41d284d261f4",
        "colab": {
          "base_uri": "https://localhost:8080/",
          "height": 0
        }
      },
      "outputs": [
        {
          "output_type": "stream",
          "name": "stdout",
          "text": [
            "72.6 µs ± 44.4 µs per loop (mean ± std. dev. of 7 runs, 20 loops each)\n"
          ]
        }
      ],
      "source": [
        "%timeit -n 20 t5 = matmul(m1,m2)"
      ]
    },
    {
      "cell_type": "markdown",
      "metadata": {
        "id": "gIAeF30ydwXD"
      },
      "source": [
        "As you can see, not only is it practical, but it's *very* fast. `einsum` is often the fastest way to do custom operations in PyTorch, without diving into C++ and CUDA. (But it's generally not as fast as carefully optimized CUDA code, as you see from the results in \"Matrix Multiplication from Scratch\".)"
      ]
    },
    {
      "cell_type": "markdown",
      "metadata": {
        "id": "4AaX64RedwXD"
      },
      "source": [
        "Now that we know how to implement a matrix multiplication from scratch, we are ready to build our neural net—specifically its forward and backward passes—using just matrix multiplications."
      ]
    },
    {
      "cell_type": "markdown",
      "metadata": {
        "id": "HS9Bz_ycdwXD"
      },
      "source": [
        "## The Forward and Backward Passes"
      ]
    },
    {
      "cell_type": "markdown",
      "metadata": {
        "id": "LYQITMKgdwXE"
      },
      "source": [
        "As we saw in <<chapter_mnist_basics>>, to train a model, we will need to compute all the gradients of a given loss with respect to its parameters, which is known as the *backward pass*. The *forward pass* is where we compute the output of the model on a given input, based on the matrix products. As we define our first neural net, we will also delve into the problem of properly initializing the weights, which is crucial for making training start properly."
      ]
    },
    {
      "cell_type": "markdown",
      "metadata": {
        "id": "uu7zvFmQdwXE"
      },
      "source": [
        "### Defining and Initializing a Layer"
      ]
    },
    {
      "cell_type": "markdown",
      "metadata": {
        "id": "c0mxpVBGdwXE"
      },
      "source": [
        "We will take the example of a two-layer neural net first. As we've seen, one layer can be expressed as `y = x @ w + b`, with `x` our inputs, `y` our outputs, `w` the weights of the layer (which is of size number of inputs by number of neurons if we don't transpose like before), and `b` is the bias vector:"
      ]
    },
    {
      "cell_type": "code",
      "execution_count": 42,
      "metadata": {
        "id": "Cq9WFy8jdwXE"
      },
      "outputs": [],
      "source": [
        "def lin(x, w, b): return x @ w + b"
      ]
    },
    {
      "cell_type": "markdown",
      "metadata": {
        "id": "AloVBsUHdwXE"
      },
      "source": [
        "We can stack the second layer on top of the first, but since mathematically the composition of two linear operations is another linear operation, this only makes sense if we put something nonlinear in the middle, called an activation function. As mentioned at the beginning of the chapter, in deep learning applications the activation function most commonly used is a ReLU, which returns the maximum of `x` and `0`.\n",
        "\n",
        "We won't actually train our model in this chapter, so we'll use random tensors for our inputs and targets. Let's say our inputs are 200 vectors of size 100, which we group into one batch, and our targets are 200 random floats:"
      ]
    },
    {
      "cell_type": "code",
      "execution_count": 43,
      "metadata": {
        "id": "M4RP6UI9dwXE"
      },
      "outputs": [],
      "source": [
        "x = torch.randn(200, 100)\n",
        "y = torch.randn(200)"
      ]
    },
    {
      "cell_type": "markdown",
      "metadata": {
        "id": "5Gz4wSdSdwXE"
      },
      "source": [
        "For our two-layer model we will need two weight matrices and two bias vectors. Let's say we have a hidden size of 50 and the output size is 1 (for one of our inputs, the corresponding output is one float in this toy example). We initialize the weights randomly and the bias at zero:"
      ]
    },
    {
      "cell_type": "code",
      "execution_count": 44,
      "metadata": {
        "id": "R8fIYQKedwXE"
      },
      "outputs": [],
      "source": [
        "w1 = torch.randn(100,50)\n",
        "b1 = torch.zeros(50)\n",
        "w2 = torch.randn(50,1)\n",
        "b2 = torch.zeros(1)"
      ]
    },
    {
      "cell_type": "markdown",
      "metadata": {
        "id": "YI1cpCmcdwXE"
      },
      "source": [
        "Then the result of our first layer is simply:"
      ]
    },
    {
      "cell_type": "code",
      "execution_count": 45,
      "metadata": {
        "id": "LHy6lBRMdwXE",
        "outputId": "6f75a740-0669-43f3-8bc8-59429f72394e",
        "colab": {
          "base_uri": "https://localhost:8080/",
          "height": 0
        }
      },
      "outputs": [
        {
          "output_type": "execute_result",
          "data": {
            "text/plain": [
              "torch.Size([200, 50])"
            ]
          },
          "metadata": {},
          "execution_count": 45
        }
      ],
      "source": [
        "l1 = lin(x, w1, b1)\n",
        "l1.shape"
      ]
    },
    {
      "cell_type": "markdown",
      "metadata": {
        "id": "aF9bDToUdwXE"
      },
      "source": [
        "Note that this formula works with our batch of inputs, and returns a batch of hidden state: `l1` is a matrix of size 200 (our batch size) by 50 (our hidden size).\n",
        "\n",
        "There is a problem with the way our model was initialized, however. To understand it, we need to look at the mean and standard deviation (std) of `l1`:"
      ]
    },
    {
      "cell_type": "code",
      "execution_count": 46,
      "metadata": {
        "id": "OsZJxu2odwXE",
        "outputId": "fbad1095-56b3-4eb0-e1d4-59a4822365ee",
        "colab": {
          "base_uri": "https://localhost:8080/",
          "height": 0
        }
      },
      "outputs": [
        {
          "output_type": "execute_result",
          "data": {
            "text/plain": [
              "(tensor(0.1381), tensor(9.8549))"
            ]
          },
          "metadata": {},
          "execution_count": 46
        }
      ],
      "source": [
        "l1.mean(), l1.std()"
      ]
    },
    {
      "cell_type": "markdown",
      "metadata": {
        "id": "eysxEU5SdwXE"
      },
      "source": [
        "The mean is close to zero, which is understandable since both our input and weight matrices have means close to zero. But the standard deviation, which represents how far away our activations go from the mean, went from 1 to 10. This is a really big problem because that's with just one layer. Modern neural nets can have hundred of layers, so if each of them multiplies the scale of our activations by 10, by the end of the last layer we won't have numbers representable by a computer.\n",
        "\n",
        "Indeed, if we make just 50 multiplications between `x` and random matrices of size 100×100, we'll have:"
      ]
    },
    {
      "cell_type": "code",
      "execution_count": 47,
      "metadata": {
        "id": "QrIU00BHdwXF",
        "outputId": "bca9e17a-320b-4e65-967e-4242d980b265",
        "colab": {
          "base_uri": "https://localhost:8080/",
          "height": 0
        }
      },
      "outputs": [
        {
          "output_type": "execute_result",
          "data": {
            "text/plain": [
              "tensor([[nan, nan, nan, nan, nan],\n",
              "        [nan, nan, nan, nan, nan],\n",
              "        [nan, nan, nan, nan, nan],\n",
              "        [nan, nan, nan, nan, nan],\n",
              "        [nan, nan, nan, nan, nan]])"
            ]
          },
          "metadata": {},
          "execution_count": 47
        }
      ],
      "source": [
        "x = torch.randn(200, 100)\n",
        "for i in range(50): x = x @ torch.randn(100,100)\n",
        "x[0:5,0:5]"
      ]
    },
    {
      "cell_type": "markdown",
      "metadata": {
        "id": "AfWbFzu_dwXF"
      },
      "source": [
        "The result is `nan`s everywhere. So maybe the scale of our matrix was too big, and we need to have smaller weights? But if we use too small weights, we will have the opposite problem—the scale of our activations will go from 1 to 0.1, and after 50 layers we'll be left with zeros everywhere:"
      ]
    },
    {
      "cell_type": "code",
      "execution_count": 48,
      "metadata": {
        "id": "J60njuspdwXF",
        "outputId": "c6a238f5-b2b8-4807-b987-d56fe4a6fa82",
        "colab": {
          "base_uri": "https://localhost:8080/",
          "height": 0
        }
      },
      "outputs": [
        {
          "output_type": "execute_result",
          "data": {
            "text/plain": [
              "tensor([[0., 0., 0., 0., 0.],\n",
              "        [0., 0., 0., 0., 0.],\n",
              "        [0., 0., 0., 0., 0.],\n",
              "        [0., 0., 0., 0., 0.],\n",
              "        [0., 0., 0., 0., 0.]])"
            ]
          },
          "metadata": {},
          "execution_count": 48
        }
      ],
      "source": [
        "x = torch.randn(200, 100)\n",
        "for i in range(50): x = x @ (torch.randn(100,100) * 0.01)\n",
        "x[0:5,0:5]"
      ]
    },
    {
      "cell_type": "markdown",
      "metadata": {
        "id": "vY9nO81wdwXF"
      },
      "source": [
        "So we have to scale our weight matrices exactly right so that the standard deviation of our activations stays at 1. We can compute the exact value to use mathematically, as illustrated by Xavier Glorot and Yoshua Bengio in [\"Understanding the Difficulty of Training Deep Feedforward Neural Networks\"](http://proceedings.mlr.press/v9/glorot10a/glorot10a.pdf). The right scale for a given layer is $1/\\sqrt{n_{in}}$, where $n_{in}$ represents the number of inputs.\n",
        "\n",
        "In our case, if we have 100 inputs, we should scale our weight matrices by 0.1:"
      ]
    },
    {
      "cell_type": "code",
      "execution_count": 49,
      "metadata": {
        "id": "ekkDxb8mdwXF",
        "outputId": "7e131851-a7d6-46b2-a5cd-94ed49945d04",
        "colab": {
          "base_uri": "https://localhost:8080/",
          "height": 0
        }
      },
      "outputs": [
        {
          "output_type": "execute_result",
          "data": {
            "text/plain": [
              "tensor([[-0.1769, -0.0389,  0.5414,  0.5769,  0.1272],\n",
              "        [ 0.2133, -1.1071,  0.8511, -1.2352, -0.6003],\n",
              "        [ 0.4065, -2.1840,  2.3958, -2.3253, -0.9688],\n",
              "        [ 0.1720,  1.2012, -2.4649, -0.7765,  0.7338],\n",
              "        [-0.0977,  1.4870, -2.0249,  1.0367,  0.8047]])"
            ]
          },
          "metadata": {},
          "execution_count": 49
        }
      ],
      "source": [
        "x = torch.randn(200, 100)\n",
        "for i in range(50): x = x @ (torch.randn(100,100) * 0.1)\n",
        "x[0:5,0:5]"
      ]
    },
    {
      "cell_type": "markdown",
      "metadata": {
        "id": "j-0hwSdpdwXF"
      },
      "source": [
        "Finally some numbers that are neither zeros nor `nan`s! Notice how stable the scale of our activations is, even after those 50 fake layers:"
      ]
    },
    {
      "cell_type": "code",
      "execution_count": 50,
      "metadata": {
        "id": "eHqrwu62dwXF",
        "outputId": "be647860-867f-4bc3-9eee-fde76f5d674e",
        "colab": {
          "base_uri": "https://localhost:8080/",
          "height": 0
        }
      },
      "outputs": [
        {
          "output_type": "execute_result",
          "data": {
            "text/plain": [
              "tensor(1.5285)"
            ]
          },
          "metadata": {},
          "execution_count": 50
        }
      ],
      "source": [
        "x.std()"
      ]
    },
    {
      "cell_type": "markdown",
      "metadata": {
        "id": "NrBvR0yfdwXF"
      },
      "source": [
        "If you play a little bit with the value for scale you'll notice that even a slight variation from 0.1 will get you either to very small or very large numbers, so initializing the weights properly is extremely important.\n",
        "\n",
        "Let's go back to our neural net. Since we messed a bit with our inputs, we need to redefine them:"
      ]
    },
    {
      "cell_type": "code",
      "execution_count": 51,
      "metadata": {
        "id": "AENojh6GdwXF"
      },
      "outputs": [],
      "source": [
        "x = torch.randn(200, 100)\n",
        "y = torch.randn(200)"
      ]
    },
    {
      "cell_type": "markdown",
      "metadata": {
        "id": "sgxjJ-yBdwXF"
      },
      "source": [
        "And for our weights, we'll use the right scale, which is known as *Xavier initialization* (or *Glorot initialization*):"
      ]
    },
    {
      "cell_type": "code",
      "execution_count": 52,
      "metadata": {
        "id": "HMcbH4uZdwXF"
      },
      "outputs": [],
      "source": [
        "from math import sqrt\n",
        "w1 = torch.randn(100,50) / sqrt(100)\n",
        "b1 = torch.zeros(50)\n",
        "w2 = torch.randn(50,1) / sqrt(50)\n",
        "b2 = torch.zeros(1)"
      ]
    },
    {
      "cell_type": "markdown",
      "metadata": {
        "id": "n6zFdWaUdwXF"
      },
      "source": [
        "Now if we compute the result of the first layer, we can check that the mean and standard deviation are under control:"
      ]
    },
    {
      "cell_type": "code",
      "execution_count": 53,
      "metadata": {
        "id": "ZoRfS3dhdwXF",
        "outputId": "e70be10f-5f79-4b90-a5d0-5d85b0f44932",
        "colab": {
          "base_uri": "https://localhost:8080/",
          "height": 0
        }
      },
      "outputs": [
        {
          "output_type": "execute_result",
          "data": {
            "text/plain": [
              "(tensor(-0.0067), tensor(0.9904))"
            ]
          },
          "metadata": {},
          "execution_count": 53
        }
      ],
      "source": [
        "l1 = lin(x, w1, b1)\n",
        "l1.mean(),l1.std()"
      ]
    },
    {
      "cell_type": "markdown",
      "metadata": {
        "id": "Cov7AXredwXG"
      },
      "source": [
        "Very good. Now we need to go through a ReLU, so let's define one. A ReLU removes the negatives and replaces them with zeros, which is another way of saying it clamps our tensor at zero:"
      ]
    },
    {
      "cell_type": "code",
      "execution_count": 54,
      "metadata": {
        "id": "N_Wa6-uddwXG"
      },
      "outputs": [],
      "source": [
        "def relu(x): return x.clamp_min(0.)"
      ]
    },
    {
      "cell_type": "markdown",
      "metadata": {
        "id": "ZbJ2t36BdwXG"
      },
      "source": [
        "We pass our activations through this:"
      ]
    },
    {
      "cell_type": "code",
      "execution_count": 55,
      "metadata": {
        "id": "i2nYYLupdwXG",
        "outputId": "5bed8d16-ba6e-4b1a-af7d-c97350d995bf",
        "colab": {
          "base_uri": "https://localhost:8080/",
          "height": 0
        }
      },
      "outputs": [
        {
          "output_type": "execute_result",
          "data": {
            "text/plain": [
              "(tensor(0.3906), tensor(0.5769))"
            ]
          },
          "metadata": {},
          "execution_count": 55
        }
      ],
      "source": [
        "l2 = relu(l1)\n",
        "l2.mean(),l2.std()"
      ]
    },
    {
      "cell_type": "markdown",
      "metadata": {
        "id": "zrOnS_4DdwXG"
      },
      "source": [
        "And we're back to square one: the mean of our activations has gone to 0.4 (which is understandable since we removed the negatives) and the std went down to 0.58. So like before, after a few layers we will probably wind up with zeros:"
      ]
    },
    {
      "cell_type": "code",
      "execution_count": 56,
      "metadata": {
        "id": "465gFlzMdwXG",
        "outputId": "9c0d1519-ee9d-45a2-9e4d-140423a682a3",
        "colab": {
          "base_uri": "https://localhost:8080/",
          "height": 0
        }
      },
      "outputs": [
        {
          "output_type": "execute_result",
          "data": {
            "text/plain": [
              "tensor([[1.7711e-08, 0.0000e+00, 1.7827e-09, 0.0000e+00, 4.7123e-09],\n",
              "        [1.6280e-08, 0.0000e+00, 3.4218e-09, 0.0000e+00, 4.2597e-09],\n",
              "        [1.7071e-08, 0.0000e+00, 5.9012e-09, 0.0000e+00, 5.1324e-09],\n",
              "        [2.7019e-08, 0.0000e+00, 2.2738e-09, 0.0000e+00, 6.4754e-09],\n",
              "        [1.7600e-08, 0.0000e+00, 2.7536e-09, 0.0000e+00, 4.0279e-09]])"
            ]
          },
          "metadata": {},
          "execution_count": 56
        }
      ],
      "source": [
        "x = torch.randn(200, 100)\n",
        "for i in range(50): x = relu(x @ (torch.randn(100,100) * 0.1))\n",
        "x[0:5,0:5]"
      ]
    },
    {
      "cell_type": "markdown",
      "metadata": {
        "id": "WlXDnSaydwXG"
      },
      "source": [
        "This means our initialization wasn't right. Why? At the time Glorot and Bengio wrote their article, the popular activation in a neural net was the hyperbolic tangent (tanh, which is the one they used), and that initialization doesn't account for our ReLU. Fortunately, someone else has done the math for us and computed the right scale for us to use. In [\"Delving Deep into Rectifiers: Surpassing Human-Level Performance\"](https://arxiv.org/abs/1502.01852) (which we've seen before—it's the article that introduced the ResNet), Kaiming He et al. show that we should use the following scale instead: $\\sqrt{2 / n_{in}}$, where $n_{in}$ is the number of inputs of our model. Let's see what this gives us:"
      ]
    },
    {
      "cell_type": "code",
      "execution_count": 57,
      "metadata": {
        "id": "LWh35pWHdwXG",
        "outputId": "b0040db2-eb05-4203-de46-257de0fc6330",
        "colab": {
          "base_uri": "https://localhost:8080/",
          "height": 0
        }
      },
      "outputs": [
        {
          "output_type": "execute_result",
          "data": {
            "text/plain": [
              "tensor([[0.2880, 0.2231, 0.0000, 1.4916, 2.1533],\n",
              "        [0.2511, 0.1750, 0.0000, 1.3327, 1.8035],\n",
              "        [0.2895, 0.1873, 0.0000, 0.8633, 1.2818],\n",
              "        [0.2071, 0.1811, 0.0000, 1.4611, 2.0061],\n",
              "        [0.4338, 0.3052, 0.0101, 1.4161, 2.0850]])"
            ]
          },
          "metadata": {},
          "execution_count": 57
        }
      ],
      "source": [
        "x = torch.randn(200, 100)\n",
        "for i in range(50): x = relu(x @ (torch.randn(100,100) * sqrt(2/100)))\n",
        "x[0:5,0:5]"
      ]
    },
    {
      "cell_type": "markdown",
      "metadata": {
        "id": "jw7TtQBidwXG"
      },
      "source": [
        "That's better: our numbers aren't all zeroed this time. So let's go back to the definition of our neural net and use this initialization (which is named *Kaiming initialization* or *He initialization*):"
      ]
    },
    {
      "cell_type": "code",
      "execution_count": 58,
      "metadata": {
        "id": "txDLU9iQdwXG"
      },
      "outputs": [],
      "source": [
        "x = torch.randn(200, 100)\n",
        "y = torch.randn(200)"
      ]
    },
    {
      "cell_type": "code",
      "execution_count": 59,
      "metadata": {
        "id": "xtDrgbmidwXG"
      },
      "outputs": [],
      "source": [
        "w1 = torch.randn(100,50) * sqrt(2 / 100)\n",
        "b1 = torch.zeros(50)\n",
        "w2 = torch.randn(50,1) * sqrt(2 / 50)\n",
        "b2 = torch.zeros(1)"
      ]
    },
    {
      "cell_type": "markdown",
      "metadata": {
        "id": "UyewB60qdwXG"
      },
      "source": [
        "Let's look at the scale of our activations after going through the first linear layer and ReLU:"
      ]
    },
    {
      "cell_type": "code",
      "execution_count": 60,
      "metadata": {
        "id": "JECWS7tidwXG",
        "outputId": "486bad52-10f8-4593-d2bd-5ba040a303bb",
        "colab": {
          "base_uri": "https://localhost:8080/",
          "height": 0
        }
      },
      "outputs": [
        {
          "output_type": "execute_result",
          "data": {
            "text/plain": [
              "(tensor(0.5656), tensor(0.8275))"
            ]
          },
          "metadata": {},
          "execution_count": 60
        }
      ],
      "source": [
        "l1 = lin(x, w1, b1)\n",
        "l2 = relu(l1)\n",
        "l2.mean(), l2.std()"
      ]
    },
    {
      "cell_type": "markdown",
      "metadata": {
        "id": "jJ2YKdpVdwXH"
      },
      "source": [
        "Much better! Now that our weights are properly initialized, we can define our whole model:"
      ]
    },
    {
      "cell_type": "code",
      "execution_count": 61,
      "metadata": {
        "id": "CTs9WFE0dwXH"
      },
      "outputs": [],
      "source": [
        "def model(x):\n",
        "    l1 = lin(x, w1, b1)\n",
        "    l2 = relu(l1)\n",
        "    l3 = lin(l2, w2, b2)\n",
        "    return l3"
      ]
    },
    {
      "cell_type": "markdown",
      "metadata": {
        "id": "cZNDn4tedwXH"
      },
      "source": [
        "This is the forward pass. Now all that's left to do is to compare our output to the labels we have (random numbers, in this example) with a loss function. In this case, we will use the mean squared error. (It's a toy problem, and this is the easiest loss function to use for what is next, computing the gradients.)\n",
        "\n",
        "The only subtlety is that our outputs and targets don't have exactly the same shape—after going though the model, we get an output like this:"
      ]
    },
    {
      "cell_type": "code",
      "execution_count": 62,
      "metadata": {
        "id": "nB12qKYYdwXH",
        "outputId": "172e038b-18cd-4371-94b3-85fc1f5f46b7",
        "colab": {
          "base_uri": "https://localhost:8080/",
          "height": 0
        }
      },
      "outputs": [
        {
          "output_type": "execute_result",
          "data": {
            "text/plain": [
              "torch.Size([200, 1])"
            ]
          },
          "metadata": {},
          "execution_count": 62
        }
      ],
      "source": [
        "out = model(x)\n",
        "out.shape"
      ]
    },
    {
      "cell_type": "markdown",
      "metadata": {
        "id": "4-ij74WydwXH"
      },
      "source": [
        "To get rid of this trailing 1 dimension, we use the `squeeze` function:"
      ]
    },
    {
      "cell_type": "code",
      "execution_count": 63,
      "metadata": {
        "id": "FMXIGCTKdwXH"
      },
      "outputs": [],
      "source": [
        "def mse(output, targ): return (output.squeeze(-1) - targ).pow(2).mean()"
      ]
    },
    {
      "cell_type": "markdown",
      "metadata": {
        "id": "bCWlxJ6PdwXH"
      },
      "source": [
        "And now we are ready to compute our loss:"
      ]
    },
    {
      "cell_type": "code",
      "execution_count": 64,
      "metadata": {
        "id": "pFa3lELKdwXH"
      },
      "outputs": [],
      "source": [
        "loss = mse(out, y)"
      ]
    },
    {
      "cell_type": "markdown",
      "metadata": {
        "id": "y-JvvUeAdwXH"
      },
      "source": [
        "That's all for the forward pass—let's now look at the gradients."
      ]
    },
    {
      "cell_type": "markdown",
      "metadata": {
        "id": "W-BOAqtkdwXH"
      },
      "source": [
        "### Gradients and the Backward Pass"
      ]
    },
    {
      "cell_type": "markdown",
      "metadata": {
        "id": "iuBfX9OndwXI"
      },
      "source": [
        "We've seen that PyTorch computes all the gradients we need with a magic call to `loss.backward`, but let's explore what's happening behind the scenes.\n",
        "\n",
        "Now comes the part where we need to compute the gradients of the loss with respect to all the weights of our model, so all the floats in `w1`, `b1`, `w2`, and `b2`. For this, we will need a bit of math—specifically the *chain rule*. This is the rule of calculus that guides how we can compute the derivative of a composed function:\n",
        "\n",
        "$$(g \\circ f)'(x) = g'(f(x)) f'(x)$$"
      ]
    },
    {
      "cell_type": "markdown",
      "metadata": {
        "id": "FOBGjbHwdwXI"
      },
      "source": [
        "> j: I find this notation very hard to wrap my head around, so instead I like to think of it as: if `y = g(u)` and `u=f(x)`; then `dy/dx = dy/du * du/dx`. The two notations mean the same thing, so use whatever works for you."
      ]
    },
    {
      "cell_type": "markdown",
      "metadata": {
        "id": "nke7LDgYdwXI"
      },
      "source": [
        "Our loss is a big composition of different functions: mean squared error (which is in turn the composition of a mean and a power of two), the second linear layer, a ReLU and the first linear layer. For instance, if we want the gradients of the loss with respect to `b2` and our loss is defined by:\n",
        "\n",
        "```\n",
        "loss = mse(out,y) = mse(lin(l2, w2, b2), y)\n",
        "```\n",
        "\n",
        "The chain rule tells us that we have:\n",
        "$$\\frac{\\text{d} loss}{\\text{d} b_{2}} = \\frac{\\text{d} loss}{\\text{d} out} \\times \\frac{\\text{d} out}{\\text{d} b_{2}} = \\frac{\\text{d}}{\\text{d} out} mse(out, y) \\times \\frac{\\text{d}}{\\text{d} b_{2}} lin(l_{2}, w_{2}, b_{2})$$\n",
        "\n",
        "To compute the gradients of the loss with respect to $b_{2}$, we first need the gradients of the loss with respect to our output $out$. It's the same if we want the gradients of the loss with respect to $w_{2}$. Then, to get the gradients of the loss with respect to $b_{1}$ or $w_{1}$, we will need the gradients of the loss with respect to $l_{1}$, which in turn requires the gradients of the loss with respect to $l_{2}$, which will need the gradients of the loss with respect to $out$.\n",
        "\n",
        "So to compute all the gradients we need for the update, we need to begin from the output of the model and work our way *backward*, one layer after the other—which is why this step is known as *backpropagation*. We can automate it by having each function we implemented (`relu`, `mse`, `lin`) provide its backward step: that is, how to derive the gradients of the loss with respect to the input(s) from the gradients of the loss with respect to the output.\n",
        "\n",
        "Here we populate those gradients in an attribute of each tensor, a bit like PyTorch does with `.grad`.\n",
        "\n",
        "The first are the gradients of the loss with respect to the output of our model (which is the input of the loss function). We undo the `squeeze` we did in `mse`, then we use the formula that gives us the derivative of $x^{2}$: $2x$. The derivative of the mean is just $1/n$ where $n$ is the number of elements in our input:"
      ]
    },
    {
      "cell_type": "code",
      "execution_count": 65,
      "metadata": {
        "id": "Qe5WhVsWdwXI"
      },
      "outputs": [],
      "source": [
        "def mse_grad(inp, targ):\n",
        "    # grad of loss with respect to output of previous layer\n",
        "    inp.g = 2. * (inp.squeeze() - targ).unsqueeze(-1) / inp.shape[0]"
      ]
    },
    {
      "cell_type": "markdown",
      "metadata": {
        "id": "xb7f5X_idwXI"
      },
      "source": [
        "For the gradients of the ReLU and our linear layer, we use the gradients of the loss with respect to the output (in `out.g`) and apply the chain rule to compute the gradients of the loss with respect to the input (in `inp.g`). The chain rule tells us that `inp.g = relu'(inp) * out.g`. The derivative of `relu` is either 0 (when inputs are negative) or 1 (when inputs are positive), so this gives us:"
      ]
    },
    {
      "cell_type": "code",
      "execution_count": 66,
      "metadata": {
        "id": "zQWPFgxzdwXI"
      },
      "outputs": [],
      "source": [
        "def relu_grad(inp, out):\n",
        "    # grad of relu with respect to input activations\n",
        "    inp.g = (inp>0).float() * out.g"
      ]
    },
    {
      "cell_type": "markdown",
      "metadata": {
        "id": "lMg4Gz3SdwXI"
      },
      "source": [
        "The scheme is the same to compute the gradients of the loss with respect to the inputs, weights, and bias in the linear layer:"
      ]
    },
    {
      "cell_type": "code",
      "execution_count": 67,
      "metadata": {
        "id": "eEYeUKpfdwXI"
      },
      "outputs": [],
      "source": [
        "def lin_grad(inp, out, w, b):\n",
        "    # grad of matmul with respect to input\n",
        "    inp.g = out.g @ w.t()\n",
        "    w.g = inp.t() @ out.g\n",
        "    b.g = out.g.sum(0)"
      ]
    },
    {
      "cell_type": "markdown",
      "metadata": {
        "id": "AkOhvTF_dwXI"
      },
      "source": [
        "We won't linger on the mathematical formulas that define them since they're not important for our purposes, but do check out Khan Academy's excellent calculus lessons if you're interested in this topic."
      ]
    },
    {
      "cell_type": "markdown",
      "metadata": {
        "id": "qpYC4tY_dwXI"
      },
      "source": [
        "### Sidebar: SymPy"
      ]
    },
    {
      "cell_type": "markdown",
      "metadata": {
        "id": "CAmg6IXbdwXI"
      },
      "source": [
        "SymPy is a library for symbolic computation that is extremely useful library when working with calculus. Per the [documentation](https://docs.sympy.org/latest/tutorial/intro.html):"
      ]
    },
    {
      "cell_type": "markdown",
      "metadata": {
        "id": "NIOB4ScodwXI"
      },
      "source": [
        "> : Symbolic computation deals with the computation of mathematical objects symbolically. This means that the mathematical objects are represented exactly, not approximately, and mathematical expressions with unevaluated variables are left in symbolic form."
      ]
    },
    {
      "cell_type": "markdown",
      "metadata": {
        "id": "mdekZmzTdwXI"
      },
      "source": [
        "To do symbolic computation, we first define a *symbol*, and then do a computation, like so:"
      ]
    },
    {
      "cell_type": "code",
      "execution_count": 68,
      "metadata": {
        "id": "svn3g6DWdwXI",
        "outputId": "e98ab599-b7fe-4d0b-c4cd-e3201eb42c0f",
        "colab": {
          "base_uri": "https://localhost:8080/",
          "height": 38
        }
      },
      "outputs": [
        {
          "output_type": "execute_result",
          "data": {
            "text/plain": [
              "2*sx"
            ],
            "text/latex": "$\\displaystyle 2 sx$"
          },
          "metadata": {},
          "execution_count": 68
        }
      ],
      "source": [
        "from sympy import symbols,diff\n",
        "sx,sy = symbols('sx sy')\n",
        "diff(sx**2, sx)"
      ]
    },
    {
      "cell_type": "markdown",
      "metadata": {
        "id": "LJjnjnlVdwXI"
      },
      "source": [
        "Here, SymPy has taken the derivative of `x**2` for us! It can take the derivative of complicated compound expressions, simplify and factor equations, and much more. There's really not much reason for anyone to do calculus manually nowadays—for calculating gradients, PyTorch does it for us, and for showing the equations, SymPy does it for us!"
      ]
    },
    {
      "cell_type": "markdown",
      "metadata": {
        "id": "_57uolbZdwXI"
      },
      "source": [
        "### End sidebar"
      ]
    },
    {
      "cell_type": "markdown",
      "metadata": {
        "id": "pUtRomMzdwXJ"
      },
      "source": [
        "Once we have have defined those functions, we can use them to write the backward pass. Since each gradient is automatically populated in the right tensor, we don't need to store the results of those `_grad` functions anywhere—we just need to execute them in the reverse order of the forward pass, to make sure that in each function `out.g` exists:"
      ]
    },
    {
      "cell_type": "code",
      "execution_count": 69,
      "metadata": {
        "id": "GjEU-KRkdwXJ"
      },
      "outputs": [],
      "source": [
        "def forward_and_backward(inp, targ):\n",
        "    # forward pass:\n",
        "    l1 = inp @ w1 + b1\n",
        "    l2 = relu(l1)\n",
        "    out = l2 @ w2 + b2\n",
        "    # we don't actually need the loss in backward!\n",
        "    loss = mse(out, targ)\n",
        "\n",
        "    # backward pass:\n",
        "    mse_grad(out, targ)\n",
        "    lin_grad(l2, out, w2, b2)\n",
        "    relu_grad(l1, l2)\n",
        "    lin_grad(inp, l1, w1, b1)"
      ]
    },
    {
      "cell_type": "markdown",
      "metadata": {
        "id": "_U3c14HAdwXJ"
      },
      "source": [
        "And now we can access the gradients of our model parameters in `w1.g`, `b1.g`, `w2.g`, and `b2.g`."
      ]
    },
    {
      "cell_type": "markdown",
      "metadata": {
        "id": "JJeTHTqfdwXJ"
      },
      "source": [
        "We have successfully defined our model—now let's make it a bit more like a PyTorch module."
      ]
    },
    {
      "cell_type": "markdown",
      "metadata": {
        "id": "xzsEY25YdwXJ"
      },
      "source": [
        "### Refactoring the Model"
      ]
    },
    {
      "cell_type": "markdown",
      "metadata": {
        "id": "Cz66YkOAdwXJ"
      },
      "source": [
        "The three functions we used have two associated functions: a forward pass and a backward pass. Instead of writing them separately, we can create a class to wrap them together. That class can also store the inputs and outputs for the backward pass. This way, we will just have to call `backward`:"
      ]
    },
    {
      "cell_type": "code",
      "execution_count": 70,
      "metadata": {
        "id": "vDDk5iWXdwXJ"
      },
      "outputs": [],
      "source": [
        "class Relu():\n",
        "    def __call__(self, inp):\n",
        "        self.inp = inp\n",
        "        self.out = inp.clamp_min(0.)\n",
        "        return self.out\n",
        "\n",
        "    def backward(self): self.inp.g = (self.inp>0).float() * self.out.g"
      ]
    },
    {
      "cell_type": "markdown",
      "metadata": {
        "id": "XnvuMe-MdwXJ"
      },
      "source": [
        "`__call__` is a magic name in Python that will make our class callable. This is what will be executed when we type `y = Relu()(x)`. We can do the same for our linear layer and the MSE loss:"
      ]
    },
    {
      "cell_type": "code",
      "execution_count": 71,
      "metadata": {
        "id": "lW5AdkOKdwXJ"
      },
      "outputs": [],
      "source": [
        "class Lin():\n",
        "    def __init__(self, w, b): self.w,self.b = w,b\n",
        "\n",
        "    def __call__(self, inp):\n",
        "        self.inp = inp\n",
        "        self.out = inp@self.w + self.b\n",
        "        return self.out\n",
        "\n",
        "    def backward(self):\n",
        "        self.inp.g = self.out.g @ self.w.t()\n",
        "        self.w.g = self.inp.t() @ self.out.g\n",
        "        self.b.g = self.out.g.sum(0)"
      ]
    },
    {
      "cell_type": "code",
      "execution_count": 72,
      "metadata": {
        "id": "VwJ_owIidwXJ"
      },
      "outputs": [],
      "source": [
        "class Mse():\n",
        "    def __call__(self, inp, targ):\n",
        "        self.inp = inp\n",
        "        self.targ = targ\n",
        "        self.out = (inp.squeeze() - targ).pow(2).mean()\n",
        "        return self.out\n",
        "\n",
        "    def backward(self):\n",
        "        x = (self.inp.squeeze()-self.targ).unsqueeze(-1)\n",
        "        self.inp.g = 2.*x/self.targ.shape[0]"
      ]
    },
    {
      "cell_type": "markdown",
      "metadata": {
        "id": "uquSM3lJdwXJ"
      },
      "source": [
        "Then we can put everything in a model that we initiate with our tensors `w1`, `b1`, `w2`, `b2`:"
      ]
    },
    {
      "cell_type": "code",
      "execution_count": 73,
      "metadata": {
        "id": "hmkFs-lldwXJ"
      },
      "outputs": [],
      "source": [
        "class Model():\n",
        "    def __init__(self, w1, b1, w2, b2):\n",
        "        self.layers = [Lin(w1,b1), Relu(), Lin(w2,b2)]\n",
        "        self.loss = Mse()\n",
        "\n",
        "    def __call__(self, x, targ):\n",
        "        for l in self.layers: x = l(x)\n",
        "        return self.loss(x, targ)\n",
        "\n",
        "    def backward(self):\n",
        "        self.loss.backward()\n",
        "        for l in reversed(self.layers): l.backward()"
      ]
    },
    {
      "cell_type": "markdown",
      "metadata": {
        "id": "ZPL_2UDRdwXJ"
      },
      "source": [
        "What is really nice about this refactoring and registering things as layers of our model is that the forward and backward passes are now really easy to write. If we want to instantiate our model, we just need to write:"
      ]
    },
    {
      "cell_type": "code",
      "execution_count": 74,
      "metadata": {
        "id": "uIkSoozFdwXJ"
      },
      "outputs": [],
      "source": [
        "model = Model(w1, b1, w2, b2)"
      ]
    },
    {
      "cell_type": "markdown",
      "metadata": {
        "id": "1WNEvn1CdwXJ"
      },
      "source": [
        "The forward pass can then be executed with:"
      ]
    },
    {
      "cell_type": "code",
      "execution_count": 75,
      "metadata": {
        "id": "i2CQbpGEdwXJ"
      },
      "outputs": [],
      "source": [
        "loss = model(x, y)"
      ]
    },
    {
      "cell_type": "markdown",
      "metadata": {
        "id": "8DkkwOF7dwXJ"
      },
      "source": [
        "And the backward pass with:"
      ]
    },
    {
      "cell_type": "code",
      "execution_count": 76,
      "metadata": {
        "id": "I8Fd-Tu9dwXK"
      },
      "outputs": [],
      "source": [
        "model.backward()"
      ]
    },
    {
      "cell_type": "markdown",
      "metadata": {
        "id": "X9EfTE1BdwXK"
      },
      "source": [
        "### Going to PyTorch"
      ]
    },
    {
      "cell_type": "markdown",
      "metadata": {
        "id": "SuNYLvhWdwXK"
      },
      "source": [
        "The  `Lin`, `Mse` and `Relu` classes we wrote have a lot in common, so we could make them all inherit from the same base class:"
      ]
    },
    {
      "cell_type": "code",
      "execution_count": 77,
      "metadata": {
        "id": "9s18szildwXK"
      },
      "outputs": [],
      "source": [
        "class LayerFunction():\n",
        "    def __call__(self, *args):\n",
        "        self.args = args\n",
        "        self.out = self.forward(*args)\n",
        "        return self.out\n",
        "\n",
        "    def forward(self):  raise Exception('not implemented')\n",
        "    def bwd(self):      raise Exception('not implemented')\n",
        "    def backward(self): self.bwd(self.out, *self.args)"
      ]
    },
    {
      "cell_type": "markdown",
      "metadata": {
        "id": "DYpykS8cdwXK"
      },
      "source": [
        "Then we just need to implement `forward` and `bwd` in each of our subclasses:"
      ]
    },
    {
      "cell_type": "code",
      "execution_count": 78,
      "metadata": {
        "id": "Nx2QyZGVdwXK"
      },
      "outputs": [],
      "source": [
        "class Relu(LayerFunction):\n",
        "    def forward(self, inp): return inp.clamp_min(0.)\n",
        "    def bwd(self, out, inp): inp.g = (inp>0).float() * out.g"
      ]
    },
    {
      "cell_type": "code",
      "execution_count": 79,
      "metadata": {
        "id": "3etRjBxxdwXK"
      },
      "outputs": [],
      "source": [
        "class Lin(LayerFunction):\n",
        "    def __init__(self, w, b): self.w,self.b = w,b\n",
        "\n",
        "    def forward(self, inp): return inp@self.w + self.b\n",
        "\n",
        "    def bwd(self, out, inp):\n",
        "        inp.g = out.g @ self.w.t()\n",
        "        self.w.g = inp.t() @ self.out.g\n",
        "        self.b.g = out.g.sum(0)"
      ]
    },
    {
      "cell_type": "code",
      "execution_count": 80,
      "metadata": {
        "id": "HmaXEgAodwXK"
      },
      "outputs": [],
      "source": [
        "class Mse(LayerFunction):\n",
        "    def forward (self, inp, targ): return (inp.squeeze() - targ).pow(2).mean()\n",
        "    def bwd(self, out, inp, targ):\n",
        "        inp.g = 2*(inp.squeeze()-targ).unsqueeze(-1) / targ.shape[0]"
      ]
    },
    {
      "cell_type": "markdown",
      "metadata": {
        "id": "rdaDQVbHdwXK"
      },
      "source": [
        "The rest of our model can be the same as before. This is getting closer and closer to what PyTorch does. Each basic function we need to differentiate is written as a `torch.autograd.Function` object that has a `forward` and a `backward` method. PyTorch will then keep trace of any computation we do to be able to properly run the backward pass, unless we set the `requires_grad` attribute of our tensors to `False`.\n",
        "\n",
        "Writing one of these is (almost) as easy as writing our original classes. The difference is that we choose what to save and what to put in a context variable (so that we make sure we don't save anything we don't need), and we return the gradients in the `backward` pass. It's very rare to have to write your own `Function` but if you ever need something exotic or want to mess with the gradients of a regular function, here is how to write one:"
      ]
    },
    {
      "cell_type": "code",
      "execution_count": 81,
      "metadata": {
        "id": "FNdD7te9dwXK"
      },
      "outputs": [],
      "source": [
        "from torch.autograd import Function\n",
        "\n",
        "class MyRelu(Function):\n",
        "    @staticmethod\n",
        "    def forward(ctx, i):\n",
        "        result = i.clamp_min(0.)\n",
        "        ctx.save_for_backward(i)\n",
        "        return result\n",
        "\n",
        "    @staticmethod\n",
        "    def backward(ctx, grad_output):\n",
        "        i, = ctx.saved_tensors\n",
        "        return grad_output * (i>0).float()"
      ]
    },
    {
      "cell_type": "markdown",
      "metadata": {
        "id": "azoRx836dwXK"
      },
      "source": [
        "The structure used to build a more complex model that takes advantage of those `Function`s is a `torch.nn.Module`. This is the base structure for all models, and all the neural nets you have seen up until now inherited from that class. It mostly helps to register all the trainable parameters, which as we've seen can be used in the training loop.\n",
        "\n",
        "To implement an `nn.Module` you just need to:\n",
        "\n",
        "- Make sure the superclass `__init__` is called first when you initialize it.\n",
        "- Define any parameters of the model as attributes with `nn.Parameter`.\n",
        "- Define a `forward` function that returns the output of your model.\n",
        "\n",
        "As an example, here is the linear layer from scratch:"
      ]
    },
    {
      "cell_type": "code",
      "execution_count": 82,
      "metadata": {
        "id": "7xIdm7n0dwXK"
      },
      "outputs": [],
      "source": [
        "import torch.nn as nn\n",
        "\n",
        "class LinearLayer(nn.Module):\n",
        "    def __init__(self, n_in, n_out):\n",
        "        super().__init__()\n",
        "        self.weight = nn.Parameter(torch.randn(n_out, n_in) * sqrt(2/n_in))\n",
        "        self.bias = nn.Parameter(torch.zeros(n_out))\n",
        "\n",
        "    def forward(self, x): return x @ self.weight.t() + self.bias"
      ]
    },
    {
      "cell_type": "markdown",
      "metadata": {
        "id": "369vA0ubdwXK"
      },
      "source": [
        "As you see, this class automatically keeps track of what parameters have been defined:"
      ]
    },
    {
      "cell_type": "code",
      "execution_count": 83,
      "metadata": {
        "id": "MRmYVRiGdwXK",
        "outputId": "0ba3e05d-e057-4bfd-8391-90b440586eb0",
        "colab": {
          "base_uri": "https://localhost:8080/",
          "height": 0
        }
      },
      "outputs": [
        {
          "output_type": "execute_result",
          "data": {
            "text/plain": [
              "(torch.Size([2, 10]), torch.Size([2]))"
            ]
          },
          "metadata": {},
          "execution_count": 83
        }
      ],
      "source": [
        "lin = LinearLayer(10,2)\n",
        "p1,p2 = lin.parameters()\n",
        "p1.shape,p2.shape"
      ]
    },
    {
      "cell_type": "markdown",
      "metadata": {
        "id": "lXCTACGzdwXK"
      },
      "source": [
        "It is thanks to this feature of `nn.Module` that we can just say `opt.step()` and have an optimizer loop through the parameters and update each one.\n",
        "\n",
        "Note that in PyTorch, the weights are stored as an `n_out x n_in` matrix, which is why we have the transpose in the forward pass.\n",
        "\n",
        "By using the linear layer from PyTorch (which uses the Kaiming initialization as well), the model we have been building up during this chapter can be written like this:"
      ]
    },
    {
      "cell_type": "code",
      "execution_count": 84,
      "metadata": {
        "id": "h4qVEV3SdwXK"
      },
      "outputs": [],
      "source": [
        "class Model(nn.Module):\n",
        "    def __init__(self, n_in, nh, n_out):\n",
        "        super().__init__()\n",
        "        self.layers = nn.Sequential(\n",
        "            nn.Linear(n_in,nh), nn.ReLU(), nn.Linear(nh,n_out))\n",
        "        self.loss = mse\n",
        "\n",
        "    def forward(self, x, targ): return self.loss(self.layers(x).squeeze(), targ)"
      ]
    },
    {
      "cell_type": "markdown",
      "metadata": {
        "id": "C_7OIK0wdwXK"
      },
      "source": [
        "fastai provides its own variant of `Module` that is identical to `nn.Module`, but doesn't require you to call `super().__init__()` (it does that for you automatically):"
      ]
    },
    {
      "cell_type": "code",
      "execution_count": 86,
      "metadata": {
        "id": "KXPlAWH7dwXK",
        "outputId": "2de43e88-92ce-41dd-81ab-b5984e7efd13",
        "colab": {
          "base_uri": "https://localhost:8080/",
          "height": 253
        }
      },
      "outputs": [
        {
          "output_type": "error",
          "ename": "NameError",
          "evalue": "ignored",
          "traceback": [
            "\u001b[0;31m---------------------------------------------------------------------------\u001b[0m",
            "\u001b[0;31mNameError\u001b[0m                                 Traceback (most recent call last)",
            "\u001b[0;32m<ipython-input-86-06fb83e220eb>\u001b[0m in \u001b[0;36m<cell line: 1>\u001b[0;34m()\u001b[0m\n\u001b[0;32m----> 1\u001b[0;31m \u001b[0;32mclass\u001b[0m \u001b[0mModel\u001b[0m\u001b[0;34m(\u001b[0m\u001b[0mModule\u001b[0m\u001b[0;34m)\u001b[0m\u001b[0;34m:\u001b[0m\u001b[0;34m\u001b[0m\u001b[0;34m\u001b[0m\u001b[0m\n\u001b[0m\u001b[1;32m      2\u001b[0m     \u001b[0;32mdef\u001b[0m \u001b[0m__init__\u001b[0m\u001b[0;34m(\u001b[0m\u001b[0mself\u001b[0m\u001b[0;34m,\u001b[0m \u001b[0mn_in\u001b[0m\u001b[0;34m,\u001b[0m \u001b[0mnh\u001b[0m\u001b[0;34m,\u001b[0m \u001b[0mn_out\u001b[0m\u001b[0;34m)\u001b[0m\u001b[0;34m:\u001b[0m\u001b[0;34m\u001b[0m\u001b[0;34m\u001b[0m\u001b[0m\n\u001b[1;32m      3\u001b[0m         self.layers = nn.Sequential(\n\u001b[1;32m      4\u001b[0m             nn.Linear(n_in,nh), nn.ReLU(), nn.Linear(nh,n_out))\n\u001b[1;32m      5\u001b[0m         \u001b[0mself\u001b[0m\u001b[0;34m.\u001b[0m\u001b[0mloss\u001b[0m \u001b[0;34m=\u001b[0m \u001b[0mmse\u001b[0m\u001b[0;34m\u001b[0m\u001b[0;34m\u001b[0m\u001b[0m\n",
            "\u001b[0;31mNameError\u001b[0m: name 'Module' is not defined"
          ]
        }
      ],
      "source": [
        "class Model(Module):\n",
        "    def __init__(self, n_in, nh, n_out):\n",
        "        self.layers = nn.Sequential(\n",
        "            nn.Linear(n_in,nh), nn.ReLU(), nn.Linear(nh,n_out))\n",
        "        self.loss = mse\n",
        "\n",
        "    def forward(self, x, targ): return self.loss(self.layers(x).squeeze(), targ)"
      ]
    },
    {
      "cell_type": "markdown",
      "metadata": {
        "id": "VEN6JllwdwXK"
      },
      "source": [
        "In the last chapter, we will start from such a model and see how to build a training loop from scratch and refactor it to what we've been using in previous chapters."
      ]
    },
    {
      "cell_type": "markdown",
      "metadata": {
        "id": "vWzz5dBNdwXL"
      },
      "source": [
        "## Conclusion"
      ]
    },
    {
      "cell_type": "markdown",
      "metadata": {
        "id": "k1dhlrG1dwXL"
      },
      "source": [
        "In this chapter we explored the foundations of deep learning, beginning with matrix multiplication and moving on to implementing the forward and backward passes of a neural net from scratch. We then refactored our code to show how PyTorch works beneath the hood.\n",
        "\n",
        "Here are a few things to remember:\n",
        "\n",
        "- A neural net is basically a bunch of matrix multiplications with nonlinearities in between.\n",
        "- Python is slow, so to write fast code we have to vectorize it and take advantage of techniques such as elementwise arithmetic and broadcasting.\n",
        "- Two tensors are broadcastable if the dimensions starting from the end and going backward match (if they are the same, or one of them is 1). To make tensors broadcastable, we may need to add dimensions of size 1 with `unsqueeze` or a `None` index.\n",
        "- Properly initializing a neural net is crucial to get training started. Kaiming initialization should be used when we have ReLU nonlinearities.\n",
        "- The backward pass is the chain rule applied multiple times, computing the gradients from the output of our model and going back, one layer at a time.\n",
        "- When subclassing `nn.Module` (if not using fastai's `Module`) we have to call the superclass `__init__` method in our `__init__` method and we have to define a `forward` function that takes an input and returns the desired result."
      ]
    },
    {
      "cell_type": "markdown",
      "metadata": {
        "id": "LP4hJjqLdwXL"
      },
      "source": [
        "## Questionnaire"
      ]
    },
    {
      "cell_type": "markdown",
      "metadata": {
        "id": "NSvyfUyxdwXL"
      },
      "source": [
        "1. Write the Python code to implement a single neuron.\n",
        "1. Write the Python code to implement ReLU.\n",
        "1. Write the Python code for a dense layer in terms of matrix multiplication.\n",
        "1. Write the Python code for a dense layer in plain Python (that is, with list comprehensions and functionality built into Python).\n",
        "1. What is the \"hidden size\" of a layer?\n",
        "1. What does the `t` method do in PyTorch?\n",
        "1. Why is matrix multiplication written in plain Python very slow?\n",
        "1. In `matmul`, why is `ac==br`?\n",
        "1. In Jupyter Notebook, how do you measure the time taken for a single cell to execute?\n",
        "1. What is \"elementwise arithmetic\"?\n",
        "1. Write the PyTorch code to test whether every element of `a` is greater than the corresponding element of `b`.\n",
        "1. What is a rank-0 tensor? How do you convert it to a plain Python data type?\n",
        "1. What does this return, and why? `tensor([1,2]) + tensor([1])`\n",
        "1. What does this return, and why? `tensor([1,2]) + tensor([1,2,3])`\n",
        "1. How does elementwise arithmetic help us speed up `matmul`?\n",
        "1. What are the broadcasting rules?\n",
        "1. What is `expand_as`? Show an example of how it can be used to match the results of broadcasting.\n",
        "1. How does `unsqueeze` help us to solve certain broadcasting problems?\n",
        "1. How can we use indexing to do the same operation as `unsqueeze`?\n",
        "1. How do we show the actual contents of the memory used for a tensor?\n",
        "1. When adding a vector of size 3 to a matrix of size 3×3, are the elements of the vector added to each row or each column of the matrix? (Be sure to check your answer by running this code in a notebook.)\n",
        "1. Do broadcasting and `expand_as` result in increased memory use? Why or why not?\n",
        "1. Implement `matmul` using Einstein summation.\n",
        "1. What does a repeated index letter represent on the left-hand side of einsum?\n",
        "1. What are the three rules of Einstein summation notation? Why?\n",
        "1. What are the forward pass and backward pass of a neural network?\n",
        "1. Why do we need to store some of the activations calculated for intermediate layers in the forward pass?\n",
        "1. What is the downside of having activations with a standard deviation too far away from 1?\n",
        "1. How can weight initialization help avoid this problem?\n",
        "1. What is the formula to initialize weights such that we get a standard deviation of 1 for a plain linear layer, and for a linear layer followed by ReLU?\n",
        "1. Why do we sometimes have to use the `squeeze` method in loss functions?\n",
        "1. What does the argument to the `squeeze` method do? Why might it be important to include this argument, even though PyTorch does not require it?\n",
        "1. What is the \"chain rule\"? Show the equation in either of the two forms presented in this chapter.\n",
        "1. Show how to calculate the gradients of `mse(lin(l2, w2, b2), y)` using the chain rule.\n",
        "1. What is the gradient of ReLU? Show it in math or code. (You shouldn't need to commit this to memory—try to figure it using your knowledge of the shape of the function.)\n",
        "1. In what order do we need to call the `*_grad` functions in the backward pass? Why?\n",
        "1. What is `__call__`?\n",
        "1. What methods must we implement when writing a `torch.autograd.Function`?\n",
        "1. Write `nn.Linear` from scratch, and test it works.\n",
        "1. What is the difference between `nn.Module` and fastai's `Module`?"
      ]
    },
    {
      "cell_type": "markdown",
      "metadata": {
        "id": "RoEmlb4ZdwXL"
      },
      "source": [
        "### Further Research"
      ]
    },
    {
      "cell_type": "markdown",
      "metadata": {
        "id": "Tx1h8p4xdwXL"
      },
      "source": [
        "1. Implement ReLU as a `torch.autograd.Function` and train a model with it.\n",
        "1. If you are mathematically inclined, find out what the gradients of a linear layer are in mathematical notation. Map that to the implementation we saw in this chapter.\n",
        "1. Learn about the `unfold` method in PyTorch, and use it along with matrix multiplication to implement your own 2D convolution function. Then train a CNN that uses it.\n",
        "1. Implement everything in this chapter using NumPy instead of PyTorch."
      ]
    },
    {
      "cell_type": "code",
      "execution_count": 86,
      "metadata": {
        "id": "TsZibPvsdwXL"
      },
      "outputs": [],
      "source": []
    }
  ],
  "metadata": {
    "jupytext": {
      "split_at_heading": true
    },
    "kernelspec": {
      "display_name": "Python 3",
      "name": "python3"
    },
    "colab": {
      "provenance": [],
      "gpuType": "T4",
      "include_colab_link": true
    },
    "accelerator": "GPU"
  },
  "nbformat": 4,
  "nbformat_minor": 0
}